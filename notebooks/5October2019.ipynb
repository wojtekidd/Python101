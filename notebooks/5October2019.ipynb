{
 "cells": [
  {
   "cell_type": "markdown",
   "metadata": {},
   "source": [
    "# 5 October 2019\n",
    "\n",
    "## Python technology\n",
    "\n",
    "**Source code -> Byte code (read by Python VM) -> Machine code** this is interpretation\n",
    "\n",
    "### Modules and packages\n",
    "\n",
    "#### Modules\n",
    "\n",
    "`__thisisforinternaluse__`\n",
    "\n",
    "`import my_function as mf` - creating an alias for `my_function`\n",
    "\n",
    "`set PYTHONPATH=` - setting the path to files for a selcted session in terminal\n",
    "\n",
    "[Absolute and relative imports](https://realpython.com/absolute-vs-relative-python-imports/)\n",
    "\n",
    "#### Packages\n",
    "\n",
    "`__name__`\n",
    "\n",
    "`__file__`\n",
    "\n",
    "`__all__`\n",
    "\n",
    "Package is a container for modules and has `___init__.py` inside."
   ]
  }
 ],
 "metadata": {
  "kernelspec": {
   "display_name": "Python 3",
   "language": "python",
   "name": "python3"
  },
  "language_info": {
   "codemirror_mode": {
    "name": "ipython",
    "version": 3
   },
   "file_extension": ".py",
   "mimetype": "text/x-python",
   "name": "python",
   "nbconvert_exporter": "python",
   "pygments_lexer": "ipython3",
   "version": "3.7.4"
  }
 },
 "nbformat": 4,
 "nbformat_minor": 2
}
