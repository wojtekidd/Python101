{
 "cells": [
  {
   "cell_type": "markdown",
   "metadata": {},
   "source": [
    "# 14 September 2019"
   ]
  },
  {
   "cell_type": "markdown",
   "metadata": {},
   "source": [
    "### Name spaces:\n",
    "\n",
    "If we execute the code below, `a` and `b` will be added to the name space."
   ]
  },
  {
   "cell_type": "code",
   "execution_count": 1,
   "metadata": {},
   "outputs": [
    {
     "name": "stdout",
     "output_type": "stream",
     "text": [
      "['In', 'Out', '_', '__', '___', '__builtin__', '__builtins__', '__doc__', '__loader__', '__name__', '__package__', '__spec__', '_dh', '_i', '_i1', '_ih', '_ii', '_iii', '_oh', 'exit', 'get_ipython', 'quit']\n",
      "['In', 'Out', '_', '__', '___', '__builtin__', '__builtins__', '__doc__', '__loader__', '__name__', '__package__', '__spec__', '_dh', '_i', '_i1', '_ih', '_ii', '_iii', '_oh', 'a', 'exit', 'get_ipython', 'quit']\n",
      "['In', 'Out', '_', '__', '___', '__builtin__', '__builtins__', '__doc__', '__loader__', '__name__', '__package__', '__spec__', '_dh', '_i', '_i1', '_ih', '_ii', '_iii', '_oh', 'a', 'b', 'exit', 'get_ipython', 'quit']\n"
     ]
    }
   ],
   "source": [
    "print(dir())\n",
    "a = 5\n",
    "print(dir())\n",
    "b = \"napis\"\n",
    "print(dir())"
   ]
  },
  {
   "cell_type": "code",
   "execution_count": 3,
   "metadata": {},
   "outputs": [
    {
     "name": "stdout",
     "output_type": "stream",
     "text": [
      "['In', 'Out', '_', '__', '___', '__builtin__', '__builtins__', '__doc__', '__loader__', '__name__', '__package__', '__spec__', '_dh', '_i', '_i1', '_i2', '_i3', '_ih', '_ii', '_iii', '_oh', 'a', 'b', 'exit', 'get_ipython', 'math', 'quit']\n",
      "['In', 'Out', '_', '__', '___', '__builtin__', '__builtins__', '__doc__', '__loader__', '__name__', '__package__', '__spec__', '_dh', '_i', '_i1', '_i2', '_i3', '_ih', '_ii', '_iii', '_oh', 'a', 'b', 'exit', 'get_ipython', 'math', 'quit']\n",
      "['__doc__', '__file__', '__loader__', '__name__', '__package__', '__spec__', 'acos', 'acosh', 'asin', 'asinh', 'atan', 'atan2', 'atanh', 'ceil', 'copysign', 'cos', 'cosh', 'degrees', 'e', 'erf', 'erfc', 'exp', 'expm1', 'fabs', 'factorial', 'floor', 'fmod', 'frexp', 'fsum', 'gamma', 'gcd', 'hypot', 'inf', 'isclose', 'isfinite', 'isinf', 'isnan', 'ldexp', 'lgamma', 'log', 'log10', 'log1p', 'log2', 'modf', 'nan', 'pi', 'pow', 'radians', 'remainder', 'sin', 'sinh', 'sqrt', 'tan', 'tanh', 'tau', 'trunc']\n"
     ]
    }
   ],
   "source": [
    "print(dir())\n",
    "a = 5\n",
    "import math\n",
    "print(dir())\n",
    "print(dir(math))"
   ]
  },
  {
   "cell_type": "code",
   "execution_count": 6,
   "metadata": {},
   "outputs": [
    {
     "name": "stdout",
     "output_type": "stream",
     "text": [
      "7\n",
      "Local namespace:  ['a', 'b']\n",
      "Global namespace:  ['In', 'Out', '_', '__', '___', '__builtin__', '__builtins__', '__doc__', '__loader__', '__name__', '__package__', '__spec__', '_dh', '_i', '_i1', '_i2', '_i3', '_i4', '_i5', '_i6', '_ih', '_ii', '_iii', '_oh', 'c', 'exit', 'func', 'get_ipython', 'quit']\n"
     ]
    }
   ],
   "source": [
    "c = 7\n",
    "\n",
    "def func():\n",
    "    a = 4\n",
    "    b = 6\n",
    "    print(c)\n",
    "    print(\"Local namespace: \", dir())\n",
    "   \n",
    "    \n",
    "    \n",
    "func()\n",
    "print(\"Global namespace: \", dir())\n"
   ]
  },
  {
   "cell_type": "markdown",
   "metadata": {},
   "source": [
    "If Python doesn't find the variable in the local namespace (here inside a function) he **goes back/up** to the global namespace to look for it."
   ]
  },
  {
   "cell_type": "code",
   "execution_count": 7,
   "metadata": {},
   "outputs": [
    {
     "ename": "NameError",
     "evalue": "name 'a' is not defined",
     "output_type": "error",
     "traceback": [
      "\u001b[0;31m---------------------------------------------------------------------------\u001b[0m",
      "\u001b[0;31mNameError\u001b[0m                                 Traceback (most recent call last)",
      "\u001b[0;32m<ipython-input-7-2ef15766db4b>\u001b[0m in \u001b[0;36m<module>\u001b[0;34m\u001b[0m\n\u001b[1;32m      4\u001b[0m \u001b[0;34m\u001b[0m\u001b[0m\n\u001b[1;32m      5\u001b[0m \u001b[0mfunc\u001b[0m\u001b[0;34m(\u001b[0m\u001b[0;34m)\u001b[0m\u001b[0;34m\u001b[0m\u001b[0;34m\u001b[0m\u001b[0m\n\u001b[0;32m----> 6\u001b[0;31m \u001b[0mprint\u001b[0m\u001b[0;34m(\u001b[0m\u001b[0ma\u001b[0m\u001b[0;34m)\u001b[0m\u001b[0;34m\u001b[0m\u001b[0;34m\u001b[0m\u001b[0m\n\u001b[0m",
      "\u001b[0;31mNameError\u001b[0m: name 'a' is not defined"
     ]
    }
   ],
   "source": [
    "def func():\n",
    "    a = 4\n",
    "    b = 6\n",
    "\n",
    "func()\n",
    "print(a)\n"
   ]
  },
  {
   "cell_type": "markdown",
   "metadata": {},
   "source": [
    "👆Python doesn't recognize `a` since it's out of its global namespace and doesn't get inside a function to search for a variable."
   ]
  },
  {
   "cell_type": "code",
   "execution_count": 5,
   "metadata": {},
   "outputs": [
    {
     "name": "stdout",
     "output_type": "stream",
     "text": [
      "['x']\n",
      "1.573\n"
     ]
    }
   ],
   "source": [
    "def outcome(x):\n",
    "    print(dir())\n",
    "    result = round(((x ** 0.5) + ((1 - (x ** 2)) ** 0.5)), 3)\n",
    "    print(result)\n",
    "\n",
    "outcome(0.5)"
   ]
  },
  {
   "cell_type": "markdown",
   "metadata": {},
   "source": [
    "👆Here `x` is defined in the function itself `def outcome(x):`"
   ]
  },
  {
   "cell_type": "markdown",
   "metadata": {},
   "source": [
    "## If / Else statements\n"
   ]
  },
  {
   "cell_type": "code",
   "execution_count": 6,
   "metadata": {},
   "outputs": [
    {
     "name": "stdout",
     "output_type": "stream",
     "text": [
      "Gimmie a number: 2\n",
      "X = 2\n"
     ]
    }
   ],
   "source": [
    "x_raw = input(\"Gimmie a number: \")\n",
    "x = int(x_raw)\n",
    "\n",
    "if x == 2:\n",
    "    print(\"X = 2\")\n",
    "else:\n",
    "    print(\"X != 2\")"
   ]
  },
  {
   "cell_type": "code",
   "execution_count": 10,
   "metadata": {},
   "outputs": [
    {
     "name": "stdout",
     "output_type": "stream",
     "text": [
      "Gimmie a first number: 4\n",
      "Gimmie a second number: 8\n",
      "8.0 is bigger\n",
      "8.0 is doubled 4.0\n"
     ]
    }
   ],
   "source": [
    "number1_raw = input(\"Gimmie a first number: \")\n",
    "number1 = float(number1_raw)\n",
    "\n",
    "number2_raw = input(\"Gimmie a second number: \")\n",
    "number2 = float(number2_raw)\n",
    "\n",
    "\n",
    "if number1 > number2:\n",
    "    print(f\"{number1} is bigger\")\n",
    "elif number1 == number2:\n",
    "    print(\"They're equal\")\n",
    "else:\n",
    "    print(f\"{number2} is bigger\")\n",
    "    if number2 == 2*number1:\n",
    "        print(f\"{number2} is doubled {number1}\")"
   ]
  },
  {
   "cell_type": "markdown",
   "metadata": {},
   "source": [
    "`If` - warunek nadrzędny\n",
    "`Elif` - warunek zagnieżdżony\n",
    "`Else` - tylko jedno"
   ]
  },
  {
   "cell_type": "markdown",
   "metadata": {},
   "source": [
    "Refactored with a function added 👇"
   ]
  },
  {
   "cell_type": "code",
   "execution_count": 21,
   "metadata": {},
   "outputs": [
    {
     "name": "stdout",
     "output_type": "stream",
     "text": [
      "Gimmie a first number: 4\n",
      "Gimmie a second number: 2\n",
      "Bigger is 4.0\n"
     ]
    }
   ],
   "source": [
    "def show_me_bigger(a, b):\n",
    "    \"\"\"Return greater of the two given numbers. If numbers are equal, the function will return `None`\"\"\"\n",
    "    if a > b:\n",
    "        return a\n",
    "    elif a < b:\n",
    "        return b\n",
    "    else:\n",
    "        return None\n",
    "\n",
    "    \n",
    "number1_raw = input(\"Gimmie a first number: \")\n",
    "number1 = float(number1_raw)\n",
    "\n",
    "number2_raw = input(\"Gimmie a second number: \")\n",
    "number2 = float(number2_raw)\n",
    "\n",
    "bigger = show_me_bigger(number1, number2)\n",
    "if bigger == None:\n",
    "    print(\"These numbers are equal\")\n",
    "else:\n",
    "    print(f\"Bigger is {bigger}\")\n"
   ]
  },
  {
   "cell_type": "markdown",
   "metadata": {},
   "source": [
    "## While loops"
   ]
  },
  {
   "cell_type": "code",
   "execution_count": null,
   "metadata": {},
   "outputs": [],
   "source": [
    "\"\"\"Infinite loop\"\"\"\n",
    "while True:\n",
    "    print(\"Hello, world!\")"
   ]
  },
  {
   "cell_type": "code",
   "execution_count": null,
   "metadata": {},
   "outputs": [],
   "source": [
    "\"\"\"Infinite loop\"\"\"\n",
    "x = 0\n",
    "while True:\n",
    "    print(x)\n",
    "    x += 1"
   ]
  },
  {
   "cell_type": "code",
   "execution_count": 35,
   "metadata": {},
   "outputs": [
    {
     "name": "stdout",
     "output_type": "stream",
     "text": [
      "0\n",
      "2\n",
      "4\n",
      "6\n",
      "8\n",
      "10\n"
     ]
    }
   ],
   "source": [
    "x = 0\n",
    "while x <= 11:\n",
    "    print(x)\n",
    "    x += 2"
   ]
  },
  {
   "cell_type": "markdown",
   "metadata": {},
   "source": [
    "## Homework\n",
    "- F strings"
   ]
  },
  {
   "cell_type": "code",
   "execution_count": null,
   "metadata": {},
   "outputs": [],
   "source": []
  }
 ],
 "metadata": {
  "kernelspec": {
   "display_name": "Python 3",
   "language": "python",
   "name": "python3"
  },
  "language_info": {
   "codemirror_mode": {
    "name": "ipython",
    "version": 3
   },
   "file_extension": ".py",
   "mimetype": "text/x-python",
   "name": "python",
   "nbconvert_exporter": "python",
   "pygments_lexer": "ipython3",
   "version": "3.7.4"
  }
 },
 "nbformat": 4,
 "nbformat_minor": 2
}
