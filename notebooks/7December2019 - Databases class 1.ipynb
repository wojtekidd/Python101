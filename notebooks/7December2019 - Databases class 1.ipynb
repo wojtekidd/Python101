{
 "cells": [
  {
   "cell_type": "markdown",
   "metadata": {},
   "source": [
    "# December 7\n",
    "\n",
    "## Databases - SQL\n",
    "\n",
    "SQL - Structured Query Language\n",
    "SQL enables access to and manipulating data in relational databases.\n",
    "SQL is a standard (the most important commands work on all versions of relationable databases)\n",
    "\n",
    "\n",
    "Database Management System\n",
    "\n",
    "RAM/Cache is the fastes type of memory there is.\n",
    "\n",
    "Most popular RDBMS databases:\n",
    "- MySQL\n",
    "- PostgreSQL\n",
    "\n",
    "Databases consist of tables: columns and rows.\n",
    "Three types of relatioins inside relational databases (relatioins between tabels)\n",
    "\n",
    "### 1-1 one to one\n",
    "One record in table 1 equals another record in table 2.\n",
    "One team has one captain and one captain belongs to one team\n",
    "\n",
    "### 1-N one to many (most popular)\n",
    "One record equals a couple of records iin another tabble.\n",
    "One book is published by one publishing house, but one publishiing house puts out a lot of books.\n",
    "\n",
    "### N-N many to many\n",
    "A couple of records in one table equals a lot of records iin a diifferent table.\n",
    "\n",
    "## Subtypes in SQL databases\n",
    "\n",
    "- DQL (Data Query Language) - `SELECT`\n",
    "- DML (Data Maniipulation Language) - `INSERT/UPDATE/DELETE`\n",
    "- DDL (Data Definitioin Language) - `CREATE/DROP/ALTER`\n",
    "- DCL (Data \n",
    "\n",
    "## Querying for data\n",
    "\n",
    "Primary commands\n",
    "\n",
    "`SELECT`"
   ]
  }
 ],
 "metadata": {
  "kernelspec": {
   "display_name": "Python 3",
   "language": "python",
   "name": "python3"
  },
  "language_info": {
   "codemirror_mode": {
    "name": "ipython",
    "version": 3
   },
   "file_extension": ".py",
   "mimetype": "text/x-python",
   "name": "python",
   "nbconvert_exporter": "python",
   "pygments_lexer": "ipython3",
   "version": "3.7.4"
  }
 },
 "nbformat": 4,
 "nbformat_minor": 2
}
