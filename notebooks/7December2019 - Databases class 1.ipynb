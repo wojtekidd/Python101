{
 "cells": [
  {
   "cell_type": "markdown",
   "metadata": {},
   "source": [
    "# December 7\n",
    "\n",
    "## Databases - SQL\n",
    "\n",
    "SQL - Structured Query Language\n",
    "SQL enables access to and manipulating data in relational databases.\n",
    "SQL is a standard (the most important commands work on all versions of relationable databases)\n",
    "\n",
    "\n",
    "Database Management System\n",
    "\n",
    "RAM/Cache is the fastes type of memory there is.\n",
    "\n",
    "Most popular RDBMS databases:\n",
    "- MySQL\n",
    "- PostgreSQL\n",
    "\n",
    "Databases consist of tables: columns and rows.\n",
    "Three types of relatioins inside relational databases (relatioins between tabels)\n",
    "\n",
    "### 1-1 one to one\n",
    "One record in table 1 equals another record in table 2.\n",
    "One team has one captain and one captain belongs to one team\n",
    "\n",
    "### 1-N one to many (most popular)\n",
    "One record equals a couple of records iin another tabble.\n",
    "One book is published by one publishing house, but one publishiing house puts out a lot of books.\n",
    "\n",
    "### N-N many to many\n",
    "A couple of records in one table equals a lot of records iin a diifferent table.\n",
    "\n",
    "## Subtypes in SQL databases\n",
    "\n",
    "- DQL (Data Query Language) - `SELECT`\n",
    "- DML (Data Maniipulation Language) - `INSERT/UPDATE/DELETE`\n",
    "- DDL (Data Definitioin Language) - `CREATE/DROP/ALTER`\n",
    "- DCL (Data \n",
    "\n",
    "## Querying for data\n",
    "\n",
    "Primary commands\n",
    "\n",
    "`SELECT`"
   ]
  },
  {
   "cell_type": "code",
   "execution_count": 2,
   "metadata": {},
   "outputs": [
    {
     "ename": "SyntaxError",
     "evalue": "invalid syntax (<ipython-input-2-264e4503b6cf>, line 1)",
     "output_type": "error",
     "traceback": [
      "\u001b[0;36m  File \u001b[0;32m\"<ipython-input-2-264e4503b6cf>\"\u001b[0;36m, line \u001b[0;32m1\u001b[0m\n\u001b[0;31m    select first_name, last_name from employees;\u001b[0m\n\u001b[0m                    ^\u001b[0m\n\u001b[0;31mSyntaxError\u001b[0m\u001b[0;31m:\u001b[0m invalid syntax\n"
     ]
    }
   ],
   "source": [
    "select first_name, last_name from employees;\n",
    "desc employees;\n",
    "\n",
    "select * from employees limit 5;\n",
    "\n",
    "select first_name from employees;\n",
    "select distinct job_id from employees;\n",
    "select distinct job_id, first_name from employees;\n",
    "\n",
    "select first_name as imie, last_name as nazwisko from employees;\n",
    "select * from employees order by last_name asc;\n",
    "select * from employees order by first_name desc, last_name desc;\n",
    "\n",
    "select job_id, first_name from employees order by job_id asc, first_name desc;\n",
    "select employee_id, last_name, first_name, email from employees\n",
    "order by 3 desc, 4 asc;\n",
    "\n",
    "select first_name, last_name from employees order by job_id;\n",
    "\n",
    "select last_name, first_name, salary from employees;\n",
    "select last_name, first_name, salary from employees limit 3,3;\n",
    "\n",
    "select count(*) as liczba_pracownikow from employees;\n",
    "select count(*) as liczba_dept from departments;\n",
    "\n",
    "select count(commission_pct) from employees;\n",
    "select count(distinct commission_pct) from employees;\n",
    "select distinct commission_pct from employees order by 1 desc;\n",
    "\n",
    "select * from employees where commission_pct < 0.20 order by salary asc;\n",
    "select first_name from employees where first_name = \"James\";\n",
    "select * from employees where salary >= 19000 or job_id = \"AD_VP\";\n",
    "\n",
    "select * from employees where job_id in (\"ad_pres\", \"ad_vp\");\n"
   ]
  },
  {
   "cell_type": "markdown",
   "metadata": {},
   "source": [
    "`GROUP BY`\n"
   ]
  }
 ],
 "metadata": {
  "kernelspec": {
   "display_name": "Python 3",
   "language": "python",
   "name": "python3"
  },
  "language_info": {
   "codemirror_mode": {
    "name": "ipython",
    "version": 3
   },
   "file_extension": ".py",
   "mimetype": "text/x-python",
   "name": "python",
   "nbconvert_exporter": "python",
   "pygments_lexer": "ipython3",
   "version": "3.7.4"
  }
 },
 "nbformat": 4,
 "nbformat_minor": 2
}
