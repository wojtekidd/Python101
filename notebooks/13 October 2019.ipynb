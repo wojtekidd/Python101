{
 "cells": [
  {
   "cell_type": "markdown",
   "metadata": {},
   "source": [
    "# 13 October 2019\n",
    "\n",
    "## Functions with default arguments\n",
    "\n",
    "🏠Type hints\n",
    "\n",
    "`from typing import`\n",
    "\n",
    "## Memory in Python\n",
    "\n",
    "x = 1\n",
    "y = 2\n",
    "z = 2 \n",
    "\n",
    "x and z are put in the same place in memory"
   ]
  }
 ],
 "metadata": {
  "kernelspec": {
   "display_name": "Python 3",
   "language": "python",
   "name": "python3"
  },
  "language_info": {
   "codemirror_mode": {
    "name": "ipython",
    "version": 3
   },
   "file_extension": ".py",
   "mimetype": "text/x-python",
   "name": "python",
   "nbconvert_exporter": "python",
   "pygments_lexer": "ipython3",
   "version": "3.7.4"
  }
 },
 "nbformat": 4,
 "nbformat_minor": 2
}
