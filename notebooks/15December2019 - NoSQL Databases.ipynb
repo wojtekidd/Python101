{
 "cells": [
  {
   "cell_type": "markdown",
   "metadata": {},
   "source": [
    "# December 15 \n",
    "## NoSQL databases\n",
    "\n",
    "NoSQL = Not Only SQL.\n",
    "\n",
    "Does it scale? Can you add additional servers to run the app for more and more users.\n",
    "\n",
    "dycha.dariusz@gmail.com - PYTwwa2 SDA"
   ]
  }
 ],
 "metadata": {
  "kernelspec": {
   "display_name": "Python 3",
   "language": "python",
   "name": "python3"
  },
  "language_info": {
   "codemirror_mode": {
    "name": "ipython",
    "version": 3
   },
   "file_extension": ".py",
   "mimetype": "text/x-python",
   "name": "python",
   "nbconvert_exporter": "python",
   "pygments_lexer": "ipython3",
   "version": "3.7.4"
  }
 },
 "nbformat": 4,
 "nbformat_minor": 2
}
