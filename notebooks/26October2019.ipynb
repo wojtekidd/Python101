{
 "cells": [
  {
   "cell_type": "markdown",
   "metadata": {},
   "source": [
    "# October 26 2019\n",
    "\n",
    "## Lambda expressions\n",
    "For simple operations - anonymous function.\n",
    "\n",
    "`def` no no more - it's `lambda` now."
   ]
  },
  {
   "cell_type": "code",
   "execution_count": 7,
   "metadata": {},
   "outputs": [
    {
     "data": {
      "text/plain": [
       "'sda'"
      ]
     },
     "execution_count": 7,
     "metadata": {},
     "output_type": "execute_result"
    }
   ],
   "source": [
    "my_lambda = lambda x: x.lower()\n",
    "#[x.lower() for x in value] the same done with list comprehension\n",
    "type(my_lambda)\n",
    "my_lambda(\"SDA\")"
   ]
  },
  {
   "cell_type": "markdown",
   "metadata": {},
   "source": [
    "### map, reduce, filter\n",
    "These built-in functions use `lambda`"
   ]
  },
  {
   "cell_type": "code",
   "execution_count": 16,
   "metadata": {},
   "outputs": [
    {
     "name": "stdout",
     "output_type": "stream",
     "text": [
      "[1, 4, 9]\n",
      "14\n",
      "12345\n",
      "[1, 3, 5, 7, 9]\n"
     ]
    }
   ],
   "source": [
    "items = [1,2,3]\n",
    "squared = list(map(lambda x: x**2, items))\n",
    "print(squared)\n",
    "\n",
    "from functools import reduce \n",
    "square_sum = reduce((lambda x, y: x+y), squared)\n",
    "print(square_sum)\n",
    "\n",
    "next_example = reduce((lambda x, y: f\"{x}{y}\"), [1,2,3,4,5])\n",
    "print(next_example)\n",
    "\n",
    "odds = list(filter(lambda x: x%2, range(1,10)))\n",
    "#[ x for x in range(1,10) if x%2] the same with list comprehension\n",
    "print(odds)"
   ]
  },
  {
   "cell_type": "markdown",
   "metadata": {},
   "source": [
    "### sorted, min, max\n",
    "These built-in functions also use lambdas, but within the `key`."
   ]
  },
  {
   "cell_type": "code",
   "execution_count": 28,
   "metadata": {},
   "outputs": [
    {
     "name": "stdout",
     "output_type": "stream",
     "text": [
      "(1, 8)\n",
      "(2, 4)\n",
      "(2, 4)\n",
      "(1, 20)\n",
      "[(2, 4), (1, 8), (1, 20)]\n"
     ]
    }
   ],
   "source": [
    "pairs = [(1,20), (2,4), (1,8)]\n",
    "print(min(pairs))\n",
    "print(max(pairs))\n",
    "print(min(pairs, key=lambda x: x[1]))\n",
    "print(max(pairs, key=lambda x: x[1]))\n",
    "print(sorted(pairs, key=lambda x: x[1]))"
   ]
  },
  {
   "cell_type": "markdown",
   "metadata": {},
   "source": [
    "## Decorators\n",
    "\n",
    "In Python functions are first class citizens. We can have functions as arguments in other functions."
   ]
  },
  {
   "cell_type": "code",
   "execution_count": 32,
   "metadata": {},
   "outputs": [
    {
     "name": "stdout",
     "output_type": "stream",
     "text": [
      "Hello Jan\n"
     ]
    }
   ],
   "source": [
    "def say_hello(name):\n",
    "    print(f\"Hello {name}\")\n",
    "    \n",
    "def say_goodbye(name):\n",
    "    print(f\"Bye {name}\")\n",
    "    \n",
    "def greet_jan(greeting):\n",
    "    return greeting(\"Jan\")\n",
    "\n",
    "greet_jan(say_hello)\n"
   ]
  },
  {
   "cell_type": "markdown",
   "metadata": {},
   "source": [
    "### Inner functions"
   ]
  },
  {
   "cell_type": "code",
   "execution_count": 39,
   "metadata": {},
   "outputs": [
    {
     "name": "stdout",
     "output_type": "stream",
     "text": [
      "Outer function\n",
      "Inner function\n",
      "ONE TWO THREE\n"
     ]
    }
   ],
   "source": [
    "def outer_function(text):\n",
    "    print(\"Outer function\")\n",
    "    def inner_function(txt):\n",
    "        print(\"Inner function\")\n",
    "        return txt.upper()\n",
    "    return inner_function(text)\n",
    "\n",
    "print(outer_function(\"One two three\"))"
   ]
  },
  {
   "cell_type": "code",
   "execution_count": 41,
   "metadata": {},
   "outputs": [
    {
     "name": "stdout",
     "output_type": "stream",
     "text": [
      "WALK\n",
      "THE\n",
      "DOG\n",
      "None\n"
     ]
    }
   ],
   "source": [
    "def outer_function(list_of_strs):\n",
    "    def inner_function(txt):\n",
    "        return txt.upper()\n",
    "    for text in list_of_strs:\n",
    "        print(inner_function(text))\n",
    "\n",
    "print(outer_function([\"Walk\", \"the\", \"dog\"]))"
   ]
  }
 ],
 "metadata": {
  "kernelspec": {
   "display_name": "Python 3",
   "language": "python",
   "name": "python3"
  },
  "language_info": {
   "codemirror_mode": {
    "name": "ipython",
    "version": 3
   },
   "file_extension": ".py",
   "mimetype": "text/x-python",
   "name": "python",
   "nbconvert_exporter": "python",
   "pygments_lexer": "ipython3",
   "version": "3.7.4"
  }
 },
 "nbformat": 4,
 "nbformat_minor": 2
}
