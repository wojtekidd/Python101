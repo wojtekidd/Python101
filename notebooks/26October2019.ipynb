{
 "cells": [
  {
   "cell_type": "markdown",
   "metadata": {},
   "source": [
    "# October 26 2019\n",
    "\n",
    "## Lambda expressions\n",
    "For simple operations - anonymous function.\n",
    "\n",
    "`def` no no more - it's `lambda` now."
   ]
  },
  {
   "cell_type": "code",
   "execution_count": 7,
   "metadata": {},
   "outputs": [
    {
     "data": {
      "text/plain": [
       "'sda'"
      ]
     },
     "execution_count": 7,
     "metadata": {},
     "output_type": "execute_result"
    }
   ],
   "source": [
    "my_lambda = lambda x: x.lower()\n",
    "#[x.lower() for x in value] the same done with list comprehension\n",
    "type(my_lambda)\n",
    "my_lambda(\"SDA\")"
   ]
  },
  {
   "cell_type": "markdown",
   "metadata": {},
   "source": [
    "### map, reduce, filter\n",
    "These built-in functions use `lambda`"
   ]
  },
  {
   "cell_type": "code",
   "execution_count": 15,
   "metadata": {},
   "outputs": [
    {
     "name": "stdout",
     "output_type": "stream",
     "text": [
      "[1, 4, 9]\n",
      "14\n",
      "12345\n",
      "[1, 3, 5, 7, 9]\n"
     ]
    }
   ],
   "source": [
    "items = [1,2,3]\n",
    "squared = list(map(lambda x: x**2, items))\n",
    "print(squared)\n",
    "\n",
    "from functools import reduce \n",
    "square_sum = reduce((lambda x, y: x+y), squared)\n",
    "print(square_sum)\n",
    "\n",
    "next_example = reduce((lambda x, y: f\"{x}{y}\"), [1,2,3,4,5])\n",
    "print(next_example)\n",
    "\n",
    "odds = list(filter(lambda x: x%2, range(1,10)))\n",
    "print(odds)"
   ]
  },
  {
   "cell_type": "code",
   "execution_count": null,
   "metadata": {},
   "outputs": [],
   "source": []
  }
 ],
 "metadata": {
  "kernelspec": {
   "display_name": "Python 3",
   "language": "python",
   "name": "python3"
  },
  "language_info": {
   "codemirror_mode": {
    "name": "ipython",
    "version": 3
   },
   "file_extension": ".py",
   "mimetype": "text/x-python",
   "name": "python",
   "nbconvert_exporter": "python",
   "pygments_lexer": "ipython3",
   "version": "3.7.4"
  }
 },
 "nbformat": 4,
 "nbformat_minor": 2
}
