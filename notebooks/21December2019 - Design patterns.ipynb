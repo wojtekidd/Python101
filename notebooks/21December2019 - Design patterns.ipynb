{
 "cells": [
  {
   "cell_type": "markdown",
   "metadata": {},
   "source": [
    "# Design patterns \n",
    "\n",
    "Object Oriented Analysis -> **Object Oriented Design** -> Object Oriented Programming\n",
    "\n",
    "## What are design patterns\n",
    "General solution to a widely occuring problem.\n",
    "\n",
    "Inheritance - IS-A (Hen is an animal)\n",
    "\n",
    "Composition - HAS-A (Hen has an egg)\n",
    "\n"
   ]
  },
  {
   "cell_type": "code",
   "execution_count": null,
   "metadata": {},
   "outputs": [],
   "source": []
  }
 ],
 "metadata": {
  "kernelspec": {
   "display_name": "Python 3",
   "language": "python",
   "name": "python3"
  },
  "language_info": {
   "codemirror_mode": {
    "name": "ipython",
    "version": 3
   },
   "file_extension": ".py",
   "mimetype": "text/x-python",
   "name": "python",
   "nbconvert_exporter": "python",
   "pygments_lexer": "ipython3",
   "version": "3.7.4"
  }
 },
 "nbformat": 4,
 "nbformat_minor": 2
}
