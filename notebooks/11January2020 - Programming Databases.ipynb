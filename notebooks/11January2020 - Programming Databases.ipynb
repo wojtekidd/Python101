{
 "cells": [
  {
   "cell_type": "markdown",
   "metadata": {},
   "source": [
    "# Programming Databases\n",
    "\n",
    "`/usr/local/mysql/bin`\n",
    "\n",
    "Using https://www.sqlalchemy.org/ to operate on SQL databases with Python.\n",
    "Setting up dialect to operate on MySQL, Postgres, etc.\n",
    "\n",
    "`connection.string` = dialect + driver: // user: pass @ localhost:port/database_name\n",
    "\n",
    "## ORM\n",
    "\n",
    "Two ways to use ORM:\n",
    "\n",
    "- classic mapping\n",
    "- declarative API\n",
    "\n",
    "### Classical mapping\n",
    "\n",
    "Create a table, a class and map the using a mapper.\n",
    "\n",
    "### Declarative API\n",
    "\n",
    "\n"
   ]
  }
 ],
 "metadata": {
  "kernelspec": {
   "display_name": "Python 3",
   "language": "python",
   "name": "python3"
  },
  "language_info": {
   "codemirror_mode": {
    "name": "ipython",
    "version": 3
   },
   "file_extension": ".py",
   "mimetype": "text/x-python",
   "name": "python",
   "nbconvert_exporter": "python",
   "pygments_lexer": "ipython3",
   "version": "3.7.4"
  }
 },
 "nbformat": 4,
 "nbformat_minor": 2
}
