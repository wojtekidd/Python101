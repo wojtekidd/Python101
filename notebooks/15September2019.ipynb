{
 "cells": [
  {
   "cell_type": "markdown",
   "metadata": {},
   "source": [
    "## 15 September 2019"
   ]
  },
  {
   "cell_type": "markdown",
   "metadata": {},
   "source": [
    "`if res.is_integer()` this function returns boolean values\n",
    "\n",
    "`return a%b == 0` this returns either True or False since it's a boolean.\n",
    "\n",
    "`if a%b == 0:\n",
    "    return True\n",
    " else:\n",
    "    return False`"
   ]
  },
  {
   "cell_type": "markdown",
   "metadata": {},
   "source": [
    "`bool(0) bool(0.0) bool(None) bool(\"\")` return `False` - these are 'Falsy' values. The ones that return `True` are called 'Truthy'."
   ]
  },
  {
   "cell_type": "code",
   "execution_count": 9,
   "metadata": {},
   "outputs": [
    {
     "data": {
      "text/plain": [
       "True"
      ]
     },
     "execution_count": 9,
     "metadata": {},
     "output_type": "execute_result"
    }
   ],
   "source": [
    "not 7%7"
   ]
  },
  {
   "cell_type": "code",
   "execution_count": 12,
   "metadata": {},
   "outputs": [
    {
     "data": {
      "text/plain": [
       "0"
      ]
     },
     "execution_count": 12,
     "metadata": {},
     "output_type": "execute_result"
    }
   ],
   "source": [
    "7%7"
   ]
  },
  {
   "cell_type": "code",
   "execution_count": 21,
   "metadata": {},
   "outputs": [
    {
     "name": "stdout",
     "output_type": "stream",
     "text": [
      "0\n",
      "2\n",
      "4\n",
      "6\n",
      "8\n",
      "10\n",
      "12\n",
      "14\n",
      "16\n",
      "18\n",
      "20\n"
     ]
    }
   ],
   "source": [
    "counter = 0 \n",
    "\n",
    "while counter < 11:\n",
    "        print(counter)\n",
    "        counter += 1"
   ]
  },
  {
   "cell_type": "code",
   "execution_count": 24,
   "metadata": {},
   "outputs": [
    {
     "name": "stdout",
     "output_type": "stream",
     "text": [
      "0\n",
      "1\n",
      "2\n",
      "3\n",
      "4\n",
      "5\n",
      "6\n",
      "7\n",
      "8\n",
      "9\n",
      "10\n"
     ]
    }
   ],
   "source": [
    "counter = 0 \n",
    "\n",
    "while True:\n",
    "        if counter == 11:\n",
    "            break\n",
    "        print(counter)\n",
    "        counter += 1"
   ]
  },
  {
   "cell_type": "code",
   "execution_count": 3,
   "metadata": {},
   "outputs": [
    {
     "name": "stdout",
     "output_type": "stream",
     "text": [
      "0\n",
      "2\n",
      "4\n",
      "6\n",
      "8\n",
      "10\n",
      "12\n",
      "14\n",
      "16\n",
      "18\n",
      "20\n",
      "22\n",
      "24\n",
      "26\n",
      "28\n",
      "30\n",
      "32\n",
      "34\n",
      "36\n",
      "38\n",
      "40\n",
      "42\n",
      "44\n",
      "46\n",
      "48\n",
      "50\n",
      "52\n",
      "54\n",
      "56\n",
      "58\n",
      "60\n",
      "62\n",
      "64\n",
      "66\n",
      "68\n",
      "70\n",
      "72\n",
      "74\n",
      "76\n",
      "78\n",
      "80\n",
      "82\n",
      "84\n",
      "86\n",
      "88\n",
      "90\n",
      "92\n",
      "94\n",
      "96\n",
      "98\n",
      "100\n"
     ]
    }
   ],
   "source": [
    "x = 0\n",
    "while x < 101:\n",
    "    if x % 2 == 0:\n",
    "        print(x)\n",
    "    x += 1"
   ]
  },
  {
   "cell_type": "code",
   "execution_count": 2,
   "metadata": {},
   "outputs": [
    {
     "name": "stdout",
     "output_type": "stream",
     "text": [
      "0\n",
      "2\n",
      "4\n",
      "6\n",
      "8\n",
      "10\n",
      "12\n",
      "14\n",
      "16\n",
      "18\n",
      "20\n",
      "22\n",
      "24\n",
      "26\n",
      "28\n",
      "30\n",
      "32\n",
      "34\n",
      "36\n",
      "38\n",
      "40\n",
      "42\n",
      "44\n",
      "46\n",
      "48\n",
      "50\n",
      "52\n",
      "54\n",
      "56\n",
      "58\n",
      "60\n",
      "62\n",
      "64\n",
      "66\n",
      "68\n",
      "70\n",
      "72\n",
      "74\n",
      "76\n",
      "78\n",
      "80\n",
      "82\n",
      "84\n",
      "86\n",
      "88\n",
      "90\n",
      "92\n",
      "94\n",
      "96\n",
      "98\n",
      "100\n"
     ]
    }
   ],
   "source": [
    "x = 0\n",
    "counter = 0 \n",
    "while counter < 102:\n",
    "    counter += 1\n",
    "    if (counter % 2) != 0:\n",
    "        continue\n",
    "    print(x)\n",
    "    x += 2"
   ]
  },
  {
   "cell_type": "markdown",
   "metadata": {},
   "source": [
    "a 'flag' is a variable defined in the beginning which returns `True` or `False` - `(bool)`"
   ]
  },
  {
   "cell_type": "code",
   "execution_count": 4,
   "metadata": {},
   "outputs": [
    {
     "name": "stdout",
     "output_type": "stream",
     "text": [
      "1. 💎 2. ✂️ 3. 🧻: 2\n",
      "Computer chose 1\n",
      "You loose 😭\n"
     ]
    }
   ],
   "source": [
    "from random import randint\n",
    "\n",
    "my_choice = int(input(\"1. 💎 2. ✂️ 3. 🧻: \"))\n",
    "comp_choice = randint(1,3)\n",
    "\n",
    "while True:\n",
    "    if my_choice > 3 or my_choice < 1:\n",
    "        print(\"Wrong choice\")\n",
    "        my_choice = int(input(\"1. 💎 2. ✂️ 3. 🧻: \"))\n",
    "    else:\n",
    "        break\n",
    "\n",
    "print(f\"Computer chose {comp_choice}\")\n",
    "\n",
    "if my_choice == comp_choice:\n",
    "    print(\"It's a tie!\")\n",
    "elif ((my_choice == 1 and comp_choice == 2) or\n",
    "      (my_choice == 2 and comp_choice == 3) or\n",
    "      (my_choice == 3 and comp_choice == 1)):\n",
    "    \"\"\"We can also use elif computer_choice == 1 + (my_choice + 2) % 3:\"\"\"\n",
    "    print(\"You win 🎉\")\n",
    "else:\n",
    "    print(\"You loose 😭\")"
   ]
  },
  {
   "cell_type": "markdown",
   "metadata": {},
   "source": [
    "## Complex data types \n",
    "\n",
    "### Collections aka containers\n",
    "#### Sequences (ordered sequences indexable and allowing duplicates)\n",
    " - lists `[1,2,3,4]` `[1, \"asd\", True, 3.6]`\n",
    " - tuples\n",
    "\n",
    "Indexes start from 0.\n",
    "\n",
    "`a = [1,2,3,4,5] a[0] = 1 a[-1] = 5`\n",
    "`a[1:3] = [2,3]`\n",
    "\n",
    "#### Unordered (don't allow duplicates)\n",
    " - sets `{2,3,3,4,2}`\n",
    " - dictionaries"
   ]
  },
  {
   "cell_type": "code",
   "execution_count": 14,
   "metadata": {},
   "outputs": [
    {
     "data": {
      "text/plain": [
       "'dlrow olleH'"
      ]
     },
     "execution_count": 14,
     "metadata": {},
     "output_type": "execute_result"
    }
   ],
   "source": [
    "\"Hello world\"[::-1]"
   ]
  },
  {
   "cell_type": "code",
   "execution_count": 10,
   "metadata": {},
   "outputs": [
    {
     "data": {
      "text/plain": [
       "[1, 2, 3, 1, 2, 3, 'w', None]"
      ]
     },
     "execution_count": 10,
     "metadata": {},
     "output_type": "execute_result"
    }
   ],
   "source": [
    "b = [1,2,3,\"w\",None]\n",
    "a = [1,2,3]\n",
    "a+b"
   ]
  },
  {
   "cell_type": "code",
   "execution_count": 15,
   "metadata": {},
   "outputs": [
    {
     "data": {
      "text/plain": [
       "'o'"
      ]
     },
     "execution_count": 15,
     "metadata": {},
     "output_type": "execute_result"
    }
   ],
   "source": [
    "\"Hello world\"[4]"
   ]
  },
  {
   "cell_type": "code",
   "execution_count": 18,
   "metadata": {},
   "outputs": [
    {
     "name": "stdout",
     "output_type": "stream",
     "text": [
      "[1, 2, 3, 4, 5, 6, 7]\n"
     ]
    }
   ],
   "source": [
    "b=[]\n",
    "b.extend([1,2,3,4,5,6,7])\n",
    "print(b)"
   ]
  },
  {
   "cell_type": "code",
   "execution_count": 11,
   "metadata": {},
   "outputs": [
    {
     "data": {
      "text/plain": [
       "[1, 2, 3, 1, 2, 3, 1, 2, 3, 1, 2, 3]"
      ]
     },
     "execution_count": 11,
     "metadata": {},
     "output_type": "execute_result"
    }
   ],
   "source": [
    "b = [1,2,3,\"w\",None]\n",
    "a = [1,2,3]\n",
    "a*4"
   ]
  }
 ],
 "metadata": {
  "kernelspec": {
   "display_name": "Python 3",
   "language": "python",
   "name": "python3"
  },
  "language_info": {
   "codemirror_mode": {
    "name": "ipython",
    "version": 3
   },
   "file_extension": ".py",
   "mimetype": "text/x-python",
   "name": "python",
   "nbconvert_exporter": "python",
   "pygments_lexer": "ipython3",
   "version": "3.7.4"
  }
 },
 "nbformat": 4,
 "nbformat_minor": 2
}
