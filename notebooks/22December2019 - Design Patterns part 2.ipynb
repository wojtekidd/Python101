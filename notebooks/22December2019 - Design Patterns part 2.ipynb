{
 "cells": [
  {
   "cell_type": "markdown",
   "metadata": {},
   "source": [
    "# Design patterns part 2\n",
    "\n",
    "Functional programming is about writing functions and variables. Realized function after function (mathematically). \n",
    "\n"
   ]
  },
  {
   "cell_type": "code",
   "execution_count": 10,
   "metadata": {},
   "outputs": [
    {
     "name": "stdout",
     "output_type": "stream",
     "text": [
      "[1, 18]\n",
      "[2, 19]\n",
      "[3, 8]\n"
     ]
    }
   ],
   "source": [
    "pairs = [[1, 18], [2, 19], [3, 8]]\n",
    "print(min(pairs))\n",
    "\n",
    "\n",
    "print(func(pairs))\n",
    "print(min(pairs, key=lambda x: ((x[0]**2 + x[1]**2)**(1/2.))))"
   ]
  },
  {
   "cell_type": "markdown",
   "metadata": {},
   "source": [
    "## Observer pattern / publish-subscribe pattern\n",
    "Informing interested objects about the state on another object.\n",
    "\n",
    "## "
   ]
  }
 ],
 "metadata": {
  "kernelspec": {
   "display_name": "Python 3",
   "language": "python",
   "name": "python3"
  },
  "language_info": {
   "codemirror_mode": {
    "name": "ipython",
    "version": 3
   },
   "file_extension": ".py",
   "mimetype": "text/x-python",
   "name": "python",
   "nbconvert_exporter": "python",
   "pygments_lexer": "ipython3",
   "version": "3.7.4"
  }
 },
 "nbformat": 4,
 "nbformat_minor": 2
}
