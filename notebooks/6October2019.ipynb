{
 "cells": [
  {
   "cell_type": "markdown",
   "metadata": {},
   "source": [
    "# 6 October 2019\n",
    "\n",
    "## pyenv\n",
    "\n",
    "`pyenv install --list`\n",
    "\n",
    "## Testing - TDD\n",
    "\n",
    "F.I.R.S.T. = Fast, Independent, Repeatable, Self-Validating, Timely.\n",
    "Tests should be published on git repos for reference before every `git merge`.\n",
    "If test are written badly it might toghten the whole software architecture and make improvements impossible. \n",
    "TDD - first testing and the code.\n",
    "Code coverage - how much code is covered by tests.\n",
    "RGR - Red-Green-Refactor\n",
    "\n",
    "[List of Python Exceptions](https://docs.python.org/3/library/exceptions.html)\n",
    "\n",
    "### Unit tests\n",
    "\n",
    "`raise Exception()` - error - finishes the programme completely.\n",
    "\n",
    "Assertion:\n",
    "\n",
    "`\n",
    "if div(4, 2) == 2:\n",
    "    print(\"Passed\")\n",
    "else:\n",
    "    raise Exception(\"Failed\")`\n",
    "\n",
    "`assert div(4,2) == 2, \"Failed\"`\n",
    "\n",
    "\n",
    "Unit tests are the tests that include assertions.\n"
   ]
  },
  {
   "cell_type": "code",
   "execution_count": 10,
   "metadata": {},
   "outputs": [],
   "source": [
    "def add(x, y):\n",
    "    return x + y\n",
    "\n",
    "\n",
    "def test_add():\n",
    "\n",
    "    assert add(7, 3) == 10\n",
    "    assert add(2, 4) == 6\n",
    "    assert add(4.3, 5.3) == 9.6\n",
    "\n",
    "\n",
    "test_add()"
   ]
  },
  {
   "cell_type": "markdown",
   "metadata": {},
   "source": [
    "#### Pytest\n",
    "\n",
    "For `pytest` tests need to include the word `test_` at the beginning of the function with tests.\n",
    "\n",
    "`pytest -v test_func_for_tests.py::test_multiply`\n",
    "\n",
    "`py.test` - looks for files starting with prefix `test_` and runs `pytest` on it."
   ]
  },
  {
   "cell_type": "markdown",
   "metadata": {},
   "source": [
    "### Classes\n",
    "\n",
    "Object oriented programming VS functional programming\n",
    "\n",
    "OOP - we want to anticipate how we perceive reality. \n",
    "\n",
    "Class is a new complex type. Classes consist of elements and functions.\n",
    "\n",
    "- functions become methods\n",
    "- variables becomes attributes\n",
    "\n",
    "Class: car\n",
    "Object (implementation, instance): Suzuki\n",
    "\n",
    "Attributes are the states (old/young) of a class (dog). \n",
    "Methods are the abilities (kill yourself) of the object (Snoopy) and they changed the state (dead).\n",
    "\n",
    "Classes are like `MyFirstClass` and are callable.\n",
    "\n",
    "Types that we create ourselves are classes.\n",
    "\n",
    "OOA - Object Oriented Analysis (Nouns -> Classes, Verbs -> Methods, Adjectives - ?)\n",
    "\n",
    "OOD - Object Oriented Design\n",
    "\n",
    "UML"
   ]
  }
 ],
 "metadata": {
  "kernelspec": {
   "display_name": "Python 3",
   "language": "python",
   "name": "python3"
  },
  "language_info": {
   "codemirror_mode": {
    "name": "ipython",
    "version": 3
   },
   "file_extension": ".py",
   "mimetype": "text/x-python",
   "name": "python",
   "nbconvert_exporter": "python",
   "pygments_lexer": "ipython3",
   "version": "3.7.4"
  }
 },
 "nbformat": 4,
 "nbformat_minor": 2
}
