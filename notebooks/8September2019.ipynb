{
 "cells": [
  {
   "cell_type": "markdown",
   "metadata": {},
   "source": [
    "# 8 September 2019"
   ]
  },
  {
   "cell_type": "markdown",
   "metadata": {},
   "source": [
    "Nazywanie zmiennych\n",
    "\n",
    "- Nazwa znacząca\n",
    "- Podkreślniki do łączenia słów\n",
    "- Nie używamy nazw wbudowanych\n",
    "- Nie używamy znaków specjalnych\n",
    "- Nie używamy liczb na początku nazwy\n",
    "\n",
    "Style nazewnictwa\n",
    "1. Snake case `moja_długa_nazwa` <- Python zmienne i funkcje\n",
    "2. Camel case `MojaDługaNazwa` <- Python nazywanie klas\n",
    "3. Pascal case `mojaDługaNazwa`\n",
    "\n",
    "Formatowanie\n",
    "- Domyślne `print(number, \"squared equals:\", result)`\n",
    "- f-string `print(f\"{number} squared equals: {result}\")` 👌🏻\n",
    "- \n",
    "- C-style `%x`\n",
    "\n",
    "{} in f-string\n",
    "`print(f\"{number} {{squared equals}}: {result}\")`"
   ]
  },
  {
   "cell_type": "code",
   "execution_count": 2,
   "metadata": {},
   "outputs": [
    {
     "ename": "KeyError",
     "evalue": "'x'",
     "output_type": "error",
     "traceback": [
      "\u001b[0;31m---------------------------------------------------------------------------\u001b[0m",
      "\u001b[0;31mKeyError\u001b[0m                                  Traceback (most recent call last)",
      "\u001b[0;32m<ipython-input-2-11d17e887ae9>\u001b[0m in \u001b[0;36m<module>\u001b[0;34m\u001b[0m\n\u001b[1;32m      1\u001b[0m \u001b[0mx\u001b[0m \u001b[0;34m=\u001b[0m \u001b[0;36m4\u001b[0m\u001b[0;34m\u001b[0m\u001b[0;34m\u001b[0m\u001b[0m\n\u001b[0;32m----> 2\u001b[0;31m \u001b[0mprint\u001b[0m\u001b[0;34m(\u001b[0m\u001b[0;34m\"My {x} in a sentence\"\u001b[0m\u001b[0;34m.\u001b[0m\u001b[0mformat\u001b[0m\u001b[0;34m(\u001b[0m\u001b[0mx\u001b[0m\u001b[0;34m)\u001b[0m\u001b[0;34m)\u001b[0m\u001b[0;34m\u001b[0m\u001b[0;34m\u001b[0m\u001b[0m\n\u001b[0m",
      "\u001b[0;31mKeyError\u001b[0m: 'x'"
     ]
    }
   ],
   "source": [
    "# Homework\n",
    "x = 4\n",
    "print(\"My {x} in a sentence\".format(x))"
   ]
  },
  {
   "cell_type": "markdown",
   "metadata": {},
   "source": [
    "Typy proste\n",
    "- integer\n",
    "- float\n",
    "- string\n",
    "- boolean\n",
    "- complex (liczby zespolone)\n",
    "- NoneType\n",
    "\n",
    "`y = print(\"asd\")⏎\n",
    "asd\n",
    "y⏎\n",
    "type(y)⏎\n",
    "<class 'NoneType'>`"
   ]
  },
  {
   "cell_type": "markdown",
   "metadata": {},
   "source": [
    "Rozszerzone operatory przypisania `+= -= *= /= //= %= **/=`"
   ]
  },
  {
   "cell_type": "code",
   "execution_count": 6,
   "metadata": {},
   "outputs": [
    {
     "name": "stdout",
     "output_type": "stream",
     "text": [
      "40\n"
     ]
    }
   ],
   "source": [
    "zmienna2 = 10\n",
    "# Below 'zmienna2 = zmienna2 + 10' using syntactic sugar\n",
    "zmienna2 += 10 \n",
    "# Below 'zmienna2 = zmienna2 * 2' using syntactic sugar\n",
    "zmienna2 *= 2\n",
    "print(zmienna2)"
   ]
  },
  {
   "cell_type": "markdown",
   "metadata": {},
   "source": [
    "### PEMDAS\n",
    "\n",
    "**P**\n",
    "Parentheses first\n",
    "\n",
    "**E**\n",
    "Exponents (ie Powers and Square Roots, etc.)\n",
    "\n",
    "**MD**\n",
    "Multiplication and Division (left-to-right)\n",
    "\n",
    "**AS**\n",
    "Addition and Subtraction (left-to-right)\n"
   ]
  },
  {
   "cell_type": "markdown",
   "metadata": {},
   "source": [
    "**D.R.Y. - Don't Repeat Yourself**"
   ]
  },
  {
   "cell_type": "markdown",
   "metadata": {},
   "source": [
    "## Functions\n",
    "\n",
    "`def square(x):\n",
    "    result = x ** 2\n",
    "    print(result)\n",
    "square(2)`\n",
    "\n",
    "x - zmienna na INPUT, istnieje tylko wewnątrz funkcji\n",
    "\n",
    "`return` zapewnia zwrot wartości funkcji"
   ]
  },
  {
   "cell_type": "code",
   "execution_count": 1,
   "metadata": {},
   "outputs": [
    {
     "name": "stdout",
     "output_type": "stream",
     "text": [
      "9\n"
     ]
    }
   ],
   "source": [
    "def get_square(x):\n",
    "    result = x ** 2\n",
    "    return result\n",
    "\n",
    "res = get_square(3)\n",
    "print(res)"
   ]
  },
  {
   "cell_type": "markdown",
   "metadata": {},
   "source": [
    "`def nazwa_funkcji(_):\n",
    "    ciało funkcji`"
   ]
  },
  {
   "cell_type": "code",
   "execution_count": 9,
   "metadata": {},
   "outputs": [
    {
     "name": "stdout",
     "output_type": "stream",
     "text": [
      "3\n"
     ]
    }
   ],
   "source": [
    "\"\"\"Nothing after return gets executed - `return` closes a function\"\"\"\n",
    "def div(x, y):\n",
    "    return x // y\n",
    "    print(\"I'm after `return`\")\n",
    "    \n",
    "print (div(9, 3))"
   ]
  },
  {
   "cell_type": "markdown",
   "metadata": {},
   "source": [
    "Garbage collector - gets rid of orphans - object without no refrenece in memory.\n",
    "\n",
    "Moduł - sam zbiór funkcji dla innych do korzystania i importowania do swojego kodu."
   ]
  },
  {
   "cell_type": "markdown",
   "metadata": {},
   "source": [
    "## Algorytmy (programy)\n",
    " - Polecenia\n",
    " - Warunki\n",
    " - Powórzenia (pętle)"
   ]
  },
  {
   "cell_type": "markdown",
   "metadata": {},
   "source": [
    "## Homework\n",
    "- Liczby urojone\n",
    "- `x = 4 print(\"My {x} in a sentence\".format(x))`\n",
    "- Statically typed VS dynamically typed\n",
    "- [How to write docstrings?](https://www.python.org/dev/peps/pep-0257/)\n",
    "- Jurek prześle ✅\n",
    "\n"
   ]
  },
  {
   "cell_type": "code",
   "execution_count": null,
   "metadata": {},
   "outputs": [],
   "source": []
  }
 ],
 "metadata": {
  "kernelspec": {
   "display_name": "Python 3",
   "language": "python",
   "name": "python3"
  },
  "language_info": {
   "codemirror_mode": {
    "name": "ipython",
    "version": 3
   },
   "file_extension": ".py",
   "mimetype": "text/x-python",
   "name": "python",
   "nbconvert_exporter": "python",
   "pygments_lexer": "ipython3",
   "version": "3.7.4"
  }
 },
 "nbformat": 4,
 "nbformat_minor": 2
}
