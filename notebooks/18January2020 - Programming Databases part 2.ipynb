{
 "cells": [
  {
   "cell_type": "markdown",
   "metadata": {},
   "source": [
    "# Programming databases part 2\n",
    "\n",
    "## Core method - SQLAlchemy"
   ]
  },
  {
   "cell_type": "code",
   "execution_count": null,
   "metadata": {},
   "outputs": [],
   "source": [
    "import sqlalchemy as db\n",
    "from sqlalchemy.sql import select\n",
    "\n",
    "engine = db.create_engine('sqlite:///heroes.db')\n",
    "connection = engine.connect()\n",
    "\n",
    "# query = 'SELECT * FROM users'\n",
    "# result = connection.execute(query).fetchall()\n",
    "# print(result)\n",
    "\n",
    "metadata = db.MetaData()\n",
    "\n",
    "heroes_table = db.Table('heroes', metadata,\n",
    "                        db.Column('hero_id', db.Integer, nullable=False, primary_key=True),\n",
    "                        db.Column('name', db.String(20), nullable=False, unique=True)\n",
    "                        )\n",
    "\n",
    "query = select([heroes_table]) # SELECT * FROM heroes;\n",
    "result = connection.execute(query).fetchall()\n",
    "print(result)\n",
    "print('---')"
   ]
  },
  {
   "cell_type": "markdown",
   "metadata": {},
   "source": [
    "## Flask an databases\n"
   ]
  },
  {
   "cell_type": "code",
   "execution_count": null,
   "metadata": {},
   "outputs": [],
   "source": []
  }
 ],
 "metadata": {
  "kernelspec": {
   "display_name": "Python 3",
   "language": "python",
   "name": "python3"
  },
  "language_info": {
   "codemirror_mode": {
    "name": "ipython",
    "version": 3
   },
   "file_extension": ".py",
   "mimetype": "text/x-python",
   "name": "python",
   "nbconvert_exporter": "python",
   "pygments_lexer": "ipython3",
   "version": "3.7.4"
  }
 },
 "nbformat": 4,
 "nbformat_minor": 2
}
