{
 "cells": [
  {
   "cell_type": "markdown",
   "metadata": {},
   "source": [
    "# Flask\n",
    "\n",
    "## Jinja2\n",
    "\n",
    "`{{variable}}`\n",
    "\n",
    "`{% piece of python code %}`\n",
    "\n",
    "`{% if %} {%endif %}`\n",
    "\n",
    "`{{url_for('index')}}`\n"
   ]
  },
  {
   "cell_type": "markdown",
   "metadata": {},
   "source": [
    "### Templates and layouts"
   ]
  },
  {
   "cell_type": "raw",
   "metadata": {},
   "source": [
    "{% extends 'layout.html' %}\n",
    "{%  block header %}`\n",
    "<a href=\"{{url_for('quotes')}}\">Want a quote?</a>\n",
    "<br>\n",
    "{% endblock %}"
   ]
  }
 ],
 "metadata": {
  "kernelspec": {
   "display_name": "Python 3",
   "language": "python",
   "name": "python3"
  },
  "language_info": {
   "codemirror_mode": {
    "name": "ipython",
    "version": 3
   },
   "file_extension": ".py",
   "mimetype": "text/x-python",
   "name": "python",
   "nbconvert_exporter": "python",
   "pygments_lexer": "ipython3",
   "version": "3.7.4"
  }
 },
 "nbformat": 4,
 "nbformat_minor": 2
}
