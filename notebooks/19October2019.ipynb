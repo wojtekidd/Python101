{
 "cells": [
  {
   "cell_type": "markdown",
   "metadata": {},
   "source": [
    "# 19 October 2019\n",
    "\n",
    "## Data structures\n",
    "\n",
    "- Tuples are immutable\n",
    "- Strings are immutable\n",
    "- Integers are immutable\n",
    "- Lists are mutable\n",
    "- Dictionaries are mutable"
   ]
  },
  {
   "cell_type": "code",
   "execution_count": 4,
   "metadata": {},
   "outputs": [
    {
     "name": "stdout",
     "output_type": "stream",
     "text": [
      "(1, 2)\n",
      "1\n"
     ]
    },
    {
     "ename": "TypeError",
     "evalue": "'tuple' object does not support item assignment",
     "output_type": "error",
     "traceback": [
      "\u001b[0;31m---------------------------------------------------------------------------\u001b[0m",
      "\u001b[0;31mTypeError\u001b[0m                                 Traceback (most recent call last)",
      "\u001b[0;32m<ipython-input-4-54ebce17468a>\u001b[0m in \u001b[0;36m<module>\u001b[0;34m\u001b[0m\n\u001b[1;32m      2\u001b[0m \u001b[0mprint\u001b[0m\u001b[0;34m(\u001b[0m\u001b[0mmy_tuple\u001b[0m\u001b[0;34m)\u001b[0m\u001b[0;34m\u001b[0m\u001b[0;34m\u001b[0m\u001b[0m\n\u001b[1;32m      3\u001b[0m \u001b[0mprint\u001b[0m\u001b[0;34m(\u001b[0m\u001b[0mmy_tuple\u001b[0m\u001b[0;34m[\u001b[0m\u001b[0;36m0\u001b[0m\u001b[0;34m]\u001b[0m\u001b[0;34m)\u001b[0m\u001b[0;34m\u001b[0m\u001b[0;34m\u001b[0m\u001b[0m\n\u001b[0;32m----> 4\u001b[0;31m \u001b[0mmy_tuple\u001b[0m\u001b[0;34m[\u001b[0m\u001b[0;36m0\u001b[0m\u001b[0;34m]\u001b[0m \u001b[0;34m=\u001b[0m \u001b[0;36m10\u001b[0m\u001b[0;34m\u001b[0m\u001b[0;34m\u001b[0m\u001b[0m\n\u001b[0m",
      "\u001b[0;31mTypeError\u001b[0m: 'tuple' object does not support item assignment"
     ]
    }
   ],
   "source": [
    "my_tuple = (1,2)\n",
    "print(my_tuple)\n",
    "print(my_tuple[0])\n",
    "my_tuple[0] = 10"
   ]
  },
  {
   "cell_type": "code",
   "execution_count": 7,
   "metadata": {},
   "outputs": [],
   "source": [
    "one_el_tuple = (1,)\n",
    "this_tuple_returns_int = (1)"
   ]
  },
  {
   "cell_type": "code",
   "execution_count": 9,
   "metadata": {},
   "outputs": [
    {
     "name": "stdout",
     "output_type": "stream",
     "text": [
      "0x10dfd9af0\n",
      "0x10dfd9af0\n"
     ]
    }
   ],
   "source": [
    "my_list = [1,2,3]\n",
    "print(hex(id(my_list)))\n",
    "my_list.append(4)\n",
    "print(hex(id(my_list)))"
   ]
  },
  {
   "cell_type": "code",
   "execution_count": 10,
   "metadata": {},
   "outputs": [
    {
     "name": "stdout",
     "output_type": "stream",
     "text": [
      "0x10e0675b0\n",
      "0x10e072630\n"
     ]
    }
   ],
   "source": [
    "my_str = \"Ala\"\n",
    "print(hex(id(my_str)))\n",
    "my_str += \"  ma kota\"\n",
    "print(hex(id(my_str)))"
   ]
  },
  {
   "cell_type": "markdown",
   "metadata": {},
   "source": [
    "### Dictionaries\n",
    "In dictionaries we should use immutable objects as keys."
   ]
  },
  {
   "cell_type": "code",
   "execution_count": 33,
   "metadata": {},
   "outputs": [
    {
     "name": "stdout",
     "output_type": "stream",
     "text": [
      "{('Jan', 'Kowalski'): True}\n",
      "True\n",
      "4530302000\n",
      "{('Jan', 'Kowalski'): True}\n",
      "{('Jan', 'Kowalski'): True, 'Surname': 'Johnson'}\n",
      "{('Jan', 'Kowalski'): True}\n"
     ]
    }
   ],
   "source": [
    "my_dict = {(\"Jan\", \"Kowalski\"): True}\n",
    "print(my_dict)\n",
    "print(my_dict[(\"Jan\", \"Kowalski\")])\n",
    "print(id(my_dict))\n",
    "my_dict_copy = my_dict.copy()\n",
    "print(my_dict_copy)\n",
    "my_dict_copy_2 = my_dict\n",
    "my_dict_copy_2[\"Surname\"] = \"Johnson\"\n",
    "print(my_dict_copy_2)\n",
    "print(my_dict_copy)"
   ]
  },
  {
   "cell_type": "markdown",
   "metadata": {},
   "source": [
    "### Hash functions\n",
    "Dictionary is mutable, but keys are immutable. Every key has a unique hash. "
   ]
  },
  {
   "cell_type": "code",
   "execution_count": 26,
   "metadata": {},
   "outputs": [
    {
     "ename": "TypeError",
     "evalue": "unhashable type: 'dict'",
     "output_type": "error",
     "traceback": [
      "\u001b[0;31m---------------------------------------------------------------------------\u001b[0m",
      "\u001b[0;31mTypeError\u001b[0m                                 Traceback (most recent call last)",
      "\u001b[0;32m<ipython-input-26-23678fb0ff9a>\u001b[0m in \u001b[0;36m<module>\u001b[0;34m\u001b[0m\n\u001b[0;32m----> 1\u001b[0;31m \u001b[0mhash\u001b[0m\u001b[0;34m(\u001b[0m\u001b[0;34m{\u001b[0m\u001b[0;34m\"Name\"\u001b[0m\u001b[0;34m:\u001b[0m \u001b[0;34m\"Jan\"\u001b[0m\u001b[0;34m}\u001b[0m\u001b[0;34m)\u001b[0m\u001b[0;34m\u001b[0m\u001b[0;34m\u001b[0m\u001b[0m\n\u001b[0m",
      "\u001b[0;31mTypeError\u001b[0m: unhashable type: 'dict'"
     ]
    }
   ],
   "source": [
    "hash({\"Name\": \"Jan\"})"
   ]
  },
  {
   "cell_type": "code",
   "execution_count": 17,
   "metadata": {},
   "outputs": [
    {
     "data": {
      "text/plain": [
       "-6081786967035747653"
      ]
     },
     "execution_count": 17,
     "metadata": {},
     "output_type": "execute_result"
    }
   ],
   "source": [
    "hash((1,2,3,4, True, \"qwerty\"))"
   ]
  },
  {
   "cell_type": "code",
   "execution_count": 21,
   "metadata": {},
   "outputs": [
    {
     "data": {
      "text/plain": [
       "3522158449181686823"
      ]
     },
     "execution_count": 21,
     "metadata": {},
     "output_type": "execute_result"
    }
   ],
   "source": [
    "hash(\"Wojtek\")"
   ]
  },
  {
   "cell_type": "code",
   "execution_count": 24,
   "metadata": {},
   "outputs": [
    {
     "data": {
      "text/plain": [
       "3522158449181686823"
      ]
     },
     "execution_count": 24,
     "metadata": {},
     "output_type": "execute_result"
    }
   ],
   "source": [
    "wojtek = \"Wojtek\"\n",
    "hash(wojtek)"
   ]
  },
  {
   "cell_type": "markdown",
   "metadata": {},
   "source": [
    "### copy VS deepcopy\n",
    "\n",
    "`from copy import deepcopy`\n"
   ]
  },
  {
   "cell_type": "code",
   "execution_count": 37,
   "metadata": {},
   "outputs": [
    {
     "name": "stdout",
     "output_type": "stream",
     "text": [
      "{'name': 'Wojtek', 'surname': 'Cichon'}\n",
      "{'name': 'Wojtek'}\n"
     ]
    }
   ],
   "source": [
    "from copy import deepcopy\n",
    "my_dict = {\"name\": \"Wojtek\"}\n",
    "my_dict_copy = deepcopy(my_dict)\n",
    "my_dict_copy[\"surname\"] = \"Cichon\"\n",
    "print(my_dict_copy)\n",
    "print(my_dict)"
   ]
  },
  {
   "cell_type": "code",
   "execution_count": 38,
   "metadata": {},
   "outputs": [
    {
     "name": "stdout",
     "output_type": "stream",
     "text": [
      "{'values': [1, 2]}\n",
      "{'values': [1, 2]}\n",
      "{'values': [1, 2, 3]}\n",
      "{'values': [1, 2, 3]}\n"
     ]
    }
   ],
   "source": [
    "my_values = [1,2]\n",
    "my_dict = {\"values\": my_values}\n",
    "my_dict_copy = my_dict.copy()\n",
    "print(my_dict)\n",
    "print(my_dict_copy)\n",
    "my_values.append(3)\n",
    "print(my_dict)\n",
    "print(my_dict_copy)"
   ]
  },
  {
   "cell_type": "code",
   "execution_count": 40,
   "metadata": {},
   "outputs": [],
   "source": [
    "def my_func(dictionary):\n",
    "    copy_dict = deepcopy(dictionary)"
   ]
  },
  {
   "cell_type": "code",
   "execution_count": 57,
   "metadata": {},
   "outputs": [
    {
     "name": "stdout",
     "output_type": "stream",
     "text": [
      "['Jan', 'Adam']\n"
     ]
    }
   ],
   "source": [
    "def add_employee(name, emp_list=None):\n",
    "    if emp_list == None:\n",
    "        emp_list = []\n",
    "    emp_list.append(name)\n",
    "\n",
    "my_list = []\n",
    "add_employee(\"Jan\", my_list)\n",
    "add_employee(\"Adam\", my_list)\n",
    "print(my_list)"
   ]
  },
  {
   "cell_type": "code",
   "execution_count": 58,
   "metadata": {},
   "outputs": [
    {
     "name": "stdout",
     "output_type": "stream",
     "text": [
      "['Jan', 'Adam']\n"
     ]
    }
   ],
   "source": [
    "def add_employee(name, emp_list=[]):\n",
    "    emp_list.append(name)\n",
    "\n",
    "my_list = []\n",
    "add_employee(\"Jan\", my_list)\n",
    "add_employee(\"Adam\", my_list)\n",
    "print(my_list)"
   ]
  },
  {
   "cell_type": "markdown",
   "metadata": {},
   "source": [
    "### namedtuple\n"
   ]
  },
  {
   "cell_type": "code",
   "execution_count": 72,
   "metadata": {},
   "outputs": [
    {
     "name": "stdout",
     "output_type": "stream",
     "text": [
      "30\n",
      "Kowalski\n"
     ]
    },
    {
     "data": {
      "text/plain": [
       "8768288963959"
      ]
     },
     "execution_count": 72,
     "metadata": {},
     "output_type": "execute_result"
    }
   ],
   "source": [
    "# namedtuple is faster than using classes\n",
    "\n",
    "from collections import namedtuple\n",
    "\n",
    "Person = namedtuple(\"Person\", [\"name\", \"surname\", \"age\"])\n",
    "type(Person)\n",
    "jan = Person(\"Jan\", \"Kowalski\", 30)\n",
    "\n",
    "print(jan.age)\n",
    "print(jan.surname)\n",
    "\n",
    "hash(Person)"
   ]
  },
  {
   "cell_type": "markdown",
   "metadata": {},
   "source": [
    "### dataclass"
   ]
  },
  {
   "cell_type": "code",
   "execution_count": 86,
   "metadata": {},
   "outputs": [
    {
     "name": "stdout",
     "output_type": "stream",
     "text": [
      "[Person(name='Anna', surname='Descartes', age=34), Person(name='John', surname='Doe', age=30)]\n",
      "Person(name='John', surname='Doe', age=30)\n",
      "Person(name='Anna', surname='Descartes', age=34)\n"
     ]
    }
   ],
   "source": [
    "from dataclasses import dataclass\n",
    "from dataclasses import field\n",
    "\n",
    "@dataclass(order=True)\n",
    "class Person:\n",
    "    name: str  \n",
    "    surname: str\n",
    "    age: int\n",
    "    \n",
    "my_list = [\n",
    "    Person(\"John\", \"Doe\", 30),\n",
    "    Person(\"Anna\", \"Descartes\", 34),\n",
    "]\n",
    "\n",
    "print(sorted(my_list))\n",
    "\n",
    "for Person in my_list:\n",
    "    print(Person)"
   ]
  },
  {
   "cell_type": "code",
   "execution_count": null,
   "metadata": {},
   "outputs": [],
   "source": []
  }
 ],
 "metadata": {
  "kernelspec": {
   "display_name": "Python 3",
   "language": "python",
   "name": "python3"
  },
  "language_info": {
   "codemirror_mode": {
    "name": "ipython",
    "version": 3
   },
   "file_extension": ".py",
   "mimetype": "text/x-python",
   "name": "python",
   "nbconvert_exporter": "python",
   "pygments_lexer": "ipython3",
   "version": "3.7.4"
  }
 },
 "nbformat": 4,
 "nbformat_minor": 2
}
