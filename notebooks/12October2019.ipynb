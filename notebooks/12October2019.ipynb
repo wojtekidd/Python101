{
 "cells": [
  {
   "cell_type": "markdown",
   "metadata": {},
   "source": [
    "# 12 October 2019\n",
    "\n",
    "OOP\n",
    "- Composition\n",
    "- Inheritance\n",
    "- Encapsulation (limiting access to data)\n",
    "- Polimorphism (classes with the same name can act differently)\n",
    "\n",
    "Every method inside a class need the `self` attribute.\n",
    "\n",
    "Classes have attributes and methods.\n",
    "\n",
    "If object is iterable - class has `__iter__` and `__next__`\n",
    "If object is callable - class has `__call__`\n",
    "Context manager - class has `__exit__` and...\n",
    "\n",
    "3 types of inheritance:\n",
    "- single\n",
    "- multiple\n",
    "- multi-level\n",
    "\n",
    "MRO algorithm 🏠"
   ]
  },
  {
   "cell_type": "code",
   "execution_count": 1,
   "metadata": {},
   "outputs": [],
   "source": [
    "class Person:\n",
    "    pass\n",
    "\"\"\"\n",
    "Single inheritance\n",
    "\"\"\"\n",
    "class Employee(Person):\n",
    "    pass\n",
    "\"\"\"\n",
    "Multi-level inheritance\n",
    "\"\"\"\n",
    "class Manager(Employee):\n",
    "    pass\n",
    "\"\"\"\n",
    "Multiple inheritance\n",
    "\"\"\"\n",
    "class Animal:\n",
    "    pass\n",
    "class Entrepreneur(Person, Animal):\n",
    "    pass\n"
   ]
  },
  {
   "cell_type": "markdown",
   "metadata": {},
   "source": [
    "Methods\n",
    "\n",
    "- object methods (`self`)\n",
    "- class methods (`class`) - using `@classmethod` decorator\n",
    "- static methods (NOTHING)\n",
    "\n",
    "public\n",
    "\n",
    "`_secure`\n",
    "\n",
    "`__private`\n",
    "\n",
    "\n",
    "Decorators"
   ]
  },
  {
   "cell_type": "code",
   "execution_count": 2,
   "metadata": {},
   "outputs": [
    {
     "ename": "IndentationError",
     "evalue": "expected an indented block (<ipython-input-2-c0856f8bb57e>, line 4)",
     "output_type": "error",
     "traceback": [
      "\u001b[0;36m  File \u001b[0;32m\"<ipython-input-2-c0856f8bb57e>\"\u001b[0;36m, line \u001b[0;32m4\u001b[0m\n\u001b[0;31m    @required_login\u001b[0m\n\u001b[0m    ^\u001b[0m\n\u001b[0;31mIndentationError\u001b[0m\u001b[0;31m:\u001b[0m expected an indented block\n"
     ]
    }
   ],
   "source": [
    "@decorator_name\n",
    "def func():\n",
    "\n",
    "@required_login\n",
    "def index():    \n",
    "    \n",
    "@classmethod    \n",
    "    def get_company_name(cls):\n",
    "        print(\"Company name\")"
   ]
  },
  {
   "cell_type": "code",
   "execution_count": null,
   "metadata": {},
   "outputs": [],
   "source": [
    "class Developer(Employee):\n",
    "    _bonus_amount = 1.5\n",
    "\n",
    "    def __init__(self, first, last, pay, prog_lang):\n",
    "        super().__init__(first, last, pay) \"\"\"Reference to inherited class - Employee\"\"\"\n",
    "        self.prog_lang = prog_lang"
   ]
  }
 ],
 "metadata": {
  "kernelspec": {
   "display_name": "Python 3",
   "language": "python",
   "name": "python3"
  },
  "language_info": {
   "codemirror_mode": {
    "name": "ipython",
    "version": 3
   },
   "file_extension": ".py",
   "mimetype": "text/x-python",
   "name": "python",
   "nbconvert_exporter": "python",
   "pygments_lexer": "ipython3",
   "version": "3.7.4"
  }
 },
 "nbformat": 4,
 "nbformat_minor": 2
}
