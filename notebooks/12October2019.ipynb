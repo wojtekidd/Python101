{
 "cells": [
  {
   "cell_type": "markdown",
   "metadata": {},
   "source": [
    "# 12 October 2019\n",
    "\n",
    "OOP\n",
    "- Composition\n",
    "- Inheritance\n",
    "- Encapsulation (limiting access to data)\n",
    "- Polimorphism (classes with the same name can act differently)\n",
    "\n",
    "Every method inside a class need the `self` attribute.\n",
    "\n",
    "Classes have attributes and methods.\n",
    "\n",
    "If object is iterable - class has `__iter__` and `__next__`\n",
    "If object is callable - class has `__call__`\n",
    "Context manager - class has `__exit__` and...\n",
    "\n",
    "3 types of inheritance:\n",
    "- single\n",
    "- multiple\n",
    "- multi-level\n",
    "\n",
    "MRO algorithm 🏠"
   ]
  },
  {
   "cell_type": "code",
   "execution_count": 1,
   "metadata": {},
   "outputs": [],
   "source": [
    "class Person:\n",
    "    pass\n",
    "\"\"\"\n",
    "Single inheritance\n",
    "\"\"\"\n",
    "class Employee(Person):\n",
    "    pass\n",
    "\"\"\"\n",
    "Multi-level inheritance\n",
    "\"\"\"\n",
    "class Manager(Employee):\n",
    "    pass\n",
    "\"\"\"\n",
    "Multiple inheritance\n",
    "\"\"\"\n",
    "class Animal:\n",
    "    pass\n",
    "class Entrepreneur(Person, Animal):\n",
    "    pass\n"
   ]
  },
  {
   "cell_type": "markdown",
   "metadata": {},
   "source": [
    "Methods\n",
    "\n",
    "- object methods (`self`)\n",
    "- class methods (`class`) - using `@classmethod` decorator\n",
    "- static methods (NOTHING)\n",
    "\n",
    "public\n",
    "\n",
    "`_secure`\n",
    "\n",
    "`__private`\n",
    "\n",
    "\n",
    "Decorators"
   ]
  },
  {
   "cell_type": "code",
   "execution_count": 2,
   "metadata": {},
   "outputs": [
    {
     "ename": "IndentationError",
     "evalue": "expected an indented block (<ipython-input-2-c0856f8bb57e>, line 4)",
     "output_type": "error",
     "traceback": [
      "\u001b[0;36m  File \u001b[0;32m\"<ipython-input-2-c0856f8bb57e>\"\u001b[0;36m, line \u001b[0;32m4\u001b[0m\n\u001b[0;31m    @required_login\u001b[0m\n\u001b[0m    ^\u001b[0m\n\u001b[0;31mIndentationError\u001b[0m\u001b[0;31m:\u001b[0m expected an indented block\n"
     ]
    }
   ],
   "source": [
    "@decorator_name\n",
    "def func():\n",
    "\n",
    "@required_login\n",
    "def index():    \n",
    "    \n",
    "@classmethod    \n",
    "    def get_company_name(cls):\n",
    "        print(\"Company name\")"
   ]
  },
  {
   "cell_type": "code",
   "execution_count": 3,
   "metadata": {},
   "outputs": [
    {
     "ename": "SyntaxError",
     "evalue": "invalid syntax (<ipython-input-3-f5f31466bb73>, line 5)",
     "output_type": "error",
     "traceback": [
      "\u001b[0;36m  File \u001b[0;32m\"<ipython-input-3-f5f31466bb73>\"\u001b[0;36m, line \u001b[0;32m5\u001b[0m\n\u001b[0;31m    super().__init__(first, last, pay) \"\"\"Reference to inherited class - Employee\"\"\"\u001b[0m\n\u001b[0m                                                                                   ^\u001b[0m\n\u001b[0;31mSyntaxError\u001b[0m\u001b[0;31m:\u001b[0m invalid syntax\n"
     ]
    }
   ],
   "source": [
    "class Developer(Employee):\n",
    "    _bonus_amount = 1.5\n",
    "\n",
    "    def __init__(self, first, last, pay, prog_lang):\n",
    "        super().__init__(first, last, pay) \"\"\"Reference to inherited class - Employee\"\"\"\n",
    "        self.prog_lang = prog_lang"
   ]
  },
  {
   "cell_type": "markdown",
   "metadata": {},
   "source": [
    "## List comprehension\n"
   ]
  },
  {
   "cell_type": "code",
   "execution_count": 17,
   "metadata": {},
   "outputs": [
    {
     "name": "stdout",
     "output_type": "stream",
     "text": [
      "['N', 'a', 'p', 'i', 's']\n",
      "['Na', 'aa', 'pa', 'ia', 'sa']\n",
      "[2, 4, 6, 8, 10]\n",
      "[0, 2, 4, 6, 8, 10, 12, 14, 16, 18, 20, 22, 24, 26, 28, 30, 32, 34, 36, 38, 40, 42, 44, 46, 48]\n",
      "[1, 3, 5, 7, 9, 11, 13, 15, 17, 19, 21, 23, 25, 27, 29, 31, 33, 35, 37, 39, 41, 43, 45, 47, 49]\n"
     ]
    }
   ],
   "source": [
    "word = \"Napis\"\n",
    "list = []\n",
    "for char in word:\n",
    "    list.append(char)\n",
    "print(list)\n",
    "\n",
    "list = [char+\"a\" for char in word]\n",
    "print(list)\n",
    "\n",
    "a_list = [1,2,3,4,5]\n",
    "print([2*item for item in a_list])\n",
    "\n",
    "n = 50 \n",
    "print([item * 2 for item in range(n//2)])\n",
    "print([item for item in range(n) if item%2 != 0])"
   ]
  },
  {
   "cell_type": "markdown",
   "metadata": {},
   "source": [
    "## Dict comprehension"
   ]
  },
  {
   "cell_type": "code",
   "execution_count": 19,
   "metadata": {},
   "outputs": [
    {
     "name": "stdout",
     "output_type": "stream",
     "text": [
      "{'Stefan': '123', 'Artur': '1234', 'Antek': '12345'}\n"
     ]
    }
   ],
   "source": [
    "user = [\"Stefan\", \"Artur\", \"Antek\"]\n",
    "numbers = [\"123\", \"1234\", \"12345\"]\n",
    "\n",
    "dict = {key:value for key, value in zip(user, numbers)}\n",
    "print(dict)\n"
   ]
  },
  {
   "cell_type": "markdown",
   "metadata": {},
   "source": [
    "## Abstract class\n"
   ]
  },
  {
   "cell_type": "code",
   "execution_count": 22,
   "metadata": {},
   "outputs": [],
   "source": [
    "import math\n",
    "import abc\n",
    "\n",
    "class Shape(abc.ABC):\n",
    "\n",
    "    @abc.abstractmethod\n",
    "    def calculate_area(self):\n",
    "        pass\n",
    "\n",
    "\n",
    "class Circle(Shape):\n",
    "    def __init__(self, radius):\n",
    "        self.radius = radius\n",
    "    def calculate_area(self):\n",
    "        return self.radius * math.pi\n",
    "\n",
    "class Rectangle(Shape):\n",
    "    def __init__(self, side_a, side_b):\n",
    "        self.side_a = side_a\n",
    "        self.side_b = side_b\n",
    "    def calculate_area(self):\n",
    "        return self.side_a * self.side_b\n",
    "\n",
    "c = Circle(5)"
   ]
  },
  {
   "cell_type": "markdown",
   "metadata": {},
   "source": [
    "# Testing (part 2)\n",
    "\n",
    "Context manager\n",
    "\n",
    "`__enter__` and `__exit__`\n",
    "\n",
    "## unittest\n",
    "\n",
    "## coverage\n",
    "\n",
    "`coverage run test.py`\n",
    "\n",
    "`coverage html`"
   ]
  }
 ],
 "metadata": {
  "kernelspec": {
   "display_name": "Python 3",
   "language": "python",
   "name": "python3"
  },
  "language_info": {
   "codemirror_mode": {
    "name": "ipython",
    "version": 3
   },
   "file_extension": ".py",
   "mimetype": "text/x-python",
   "name": "python",
   "nbconvert_exporter": "python",
   "pygments_lexer": "ipython3",
   "version": "3.7.4"
  }
 },
 "nbformat": 4,
 "nbformat_minor": 2
}
