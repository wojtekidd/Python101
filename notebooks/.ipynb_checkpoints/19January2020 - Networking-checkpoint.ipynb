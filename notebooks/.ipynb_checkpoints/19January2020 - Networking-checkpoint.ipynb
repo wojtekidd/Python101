{
 "cells": [
  {
   "cell_type": "markdown",
   "metadata": {},
   "source": [
    "# Networking\n",
    "\n",
    "## Introduction to HTTP\n",
    "\n",
    "https: 443"
   ]
  },
  {
   "cell_type": "code",
   "execution_count": 5,
   "metadata": {},
   "outputs": [
    {
     "name": "stdout",
     "output_type": "stream",
     "text": [
      "0b10111001\n",
      "0b10011110\n",
      "0b1101101\n",
      "0b10010001\n",
      "0b11111111\n",
      "0b11111111\n",
      "0b11111111\n",
      "0b0\n"
     ]
    }
   ],
   "source": [
    "print(bin(185))\n",
    "print(bin(158))\n",
    "print(bin(109))\n",
    "print(bin(145))\n",
    "\n",
    "print(bin(255))\n",
    "print(bin(255))\n",
    "print(bin(255))\n",
    "print(bin(0))"
   ]
  },
  {
   "cell_type": "markdown",
   "metadata": {},
   "source": []
  }
 ],
 "metadata": {
  "kernelspec": {
   "display_name": "Python 3",
   "language": "python",
   "name": "python3"
  },
  "language_info": {
   "codemirror_mode": {
    "name": "ipython",
    "version": 3
   },
   "file_extension": ".py",
   "mimetype": "text/x-python",
   "name": "python",
   "nbconvert_exporter": "python",
   "pygments_lexer": "ipython3",
   "version": "3.7.4"
  }
 },
 "nbformat": 4,
 "nbformat_minor": 2
}
