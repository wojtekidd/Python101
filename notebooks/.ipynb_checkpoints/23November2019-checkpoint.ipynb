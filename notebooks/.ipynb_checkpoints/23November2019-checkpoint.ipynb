{
 "cells": [
  {
   "cell_type": "markdown",
   "metadata": {},
   "source": [
    "# 23 November 2019\n",
    "\n",
    "## Algorithms and data structures\n",
    "\n",
    "[codingame.com](http://www.codiingame.com)\n",
    "[hackerrank.com](http://www.hackerrank.com)\n",
    "[codewars.com](http://codewars.com)\n",
    "\n",
    "### Data structures\n",
    "\n",
    "Table = static, \n",
    "\n",
    "#### Dynamic data structures\n",
    "\n"
   ]
  }
 ],
 "metadata": {
  "kernelspec": {
   "display_name": "Python 3",
   "language": "python",
   "name": "python3"
  },
  "language_info": {
   "codemirror_mode": {
    "name": "ipython",
    "version": 3
   },
   "file_extension": ".py",
   "mimetype": "text/x-python",
   "name": "python",
   "nbconvert_exporter": "python",
   "pygments_lexer": "ipython3",
   "version": "3.7.4"
  }
 },
 "nbformat": 4,
 "nbformat_minor": 2
}
