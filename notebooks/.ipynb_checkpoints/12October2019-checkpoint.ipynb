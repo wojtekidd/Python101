{
 "cells": [
  {
   "cell_type": "markdown",
   "metadata": {},
   "source": [
    "# 12 October 2019\n",
    "\n",
    "OOP\n",
    "- Composition\n",
    "- Inheritance\n",
    "- Encapsulation (limiting access to data)\n",
    "- Polimorphism (classes with the same name can act differently)\n",
    "\n",
    "Every method inside a class need the `self` attribute.\n",
    "\n",
    "Classes have attributes and methods.\n",
    "\n",
    "If object is iterable - class has `__iter__` and `__next__`\n",
    "If object is callable - class has `__call__`\n",
    "Context manager - class has `__exit__` and...\n",
    "\n",
    "3 types of inheritance:\n",
    "- single\n",
    "- multiple\n",
    "- multi-level\n",
    "\n",
    "MRO algorithm 🏠"
   ]
  },
  {
   "cell_type": "code",
   "execution_count": 1,
   "metadata": {},
   "outputs": [],
   "source": [
    "class Person:\n",
    "    pass\n",
    "\"\"\"\n",
    "Single inheritance\n",
    "\"\"\"\n",
    "class Employee(Person):\n",
    "    pass\n",
    "\"\"\"\n",
    "Multi-level inheritance\n",
    "\"\"\"\n",
    "class Manager(Employee):\n",
    "    pass\n",
    "\"\"\"\n",
    "Multiple inheritance\n",
    "\"\"\"\n",
    "class Animal:\n",
    "    pass\n",
    "class Entrepreneur(Person, Animal):\n",
    "    pass\n"
   ]
  },
  {
   "cell_type": "markdown",
   "metadata": {},
   "source": []
  }
 ],
 "metadata": {
  "kernelspec": {
   "display_name": "Python 3",
   "language": "python",
   "name": "python3"
  },
  "language_info": {
   "codemirror_mode": {
    "name": "ipython",
    "version": 3
   },
   "file_extension": ".py",
   "mimetype": "text/x-python",
   "name": "python",
   "nbconvert_exporter": "python",
   "pygments_lexer": "ipython3",
   "version": "3.7.4"
  }
 },
 "nbformat": 4,
 "nbformat_minor": 2
}
