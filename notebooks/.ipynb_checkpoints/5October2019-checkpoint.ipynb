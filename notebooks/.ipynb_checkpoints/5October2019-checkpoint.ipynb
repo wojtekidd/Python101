{
 "cells": [
  {
   "cell_type": "markdown",
   "metadata": {},
   "source": [
    "# 5 October 2019\n",
    "\n",
    "## Python technology\n",
    "\n",
    "**Source code -> Byte code (read by Python VM) -> Machine code** this is interpretation\n",
    "\n",
    "### Modules and packages\n",
    "\n",
    "#### Modules\n",
    "\n",
    "`__thisisforinternaluse__`\n",
    "\n",
    "`import my_function as mf` - creating an alias for `my_function`\n",
    "\n",
    "`set PYTHONPATH=` - setting the path to files for a selcted session in terminal\n",
    "\n",
    "[Absolute and relative imports](https://realpython.com/absolute-vs-relative-python-imports/)\n",
    "\n",
    "[Google Python Style Guide](https://github.com/google/styleguide/blob/gh-pages/pyguide.md)\n",
    "\n",
    "functions -> modules -> packages\n",
    "\n",
    "#### Packages\n",
    "\n",
    "`__name__`\n",
    "\n",
    "`__file__`\n",
    "\n",
    "`__all__`\n",
    "\n",
    "Package is a container for modules and has `___init__.py` inside.\n",
    "\n",
    "##### pip\n",
    "\n",
    "https://pypi.org/ == cheese shop == pip index\n",
    "\n",
    "`pip freeze` - shows the current env of **all** packages\n",
    "\n",
    "`pip list -o` - list outdated packages\n",
    "\n",
    "`pip install -r requirements.txt` - installs all project requirements\n",
    "\n",
    "\n",
    "### Virtual Environment\n",
    "\n",
    "`virtualenv test_env`\n",
    "\n",
    "`source activate.fish`\n",
    "\n",
    "`pip list` - displays all packages inside the virtual environment\n",
    "\n",
    "`pip freeze` - displays packages that were installed AFTER setting up the virtualenv SO this is what you should use when `> requirements.txt`\n",
    "\n",
    "Global packages should include:\n",
    "- Python\n",
    "- pip\n",
    "- setuptools\n",
    "- virtualenv"
   ]
  },
  {
   "cell_type": "code",
   "execution_count": null,
   "metadata": {},
   "outputs": [],
   "source": [
    "\n"
   ]
  },
  {
   "cell_type": "code",
   "execution_count": null,
   "metadata": {},
   "outputs": [],
   "source": []
  }
 ],
 "metadata": {
  "kernelspec": {
   "display_name": "Python 3",
   "language": "python",
   "name": "python3"
  },
  "language_info": {
   "codemirror_mode": {
    "name": "ipython",
    "version": 3
   },
   "file_extension": ".py",
   "mimetype": "text/x-python",
   "name": "python",
   "nbconvert_exporter": "python",
   "pygments_lexer": "ipython3",
   "version": "3.7.4"
  }
 },
 "nbformat": 4,
 "nbformat_minor": 2
}
