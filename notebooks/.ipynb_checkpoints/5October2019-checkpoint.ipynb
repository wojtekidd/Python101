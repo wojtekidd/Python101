{
 "cells": [
  {
   "cell_type": "markdown",
   "metadata": {},
   "source": [
    "# 5 October 2019\n",
    "\n",
    "## Python technology\n",
    "\n",
    "**Source code -> Byte code (read by Python VM) -> Machine code** this is interpretation\n",
    "\n",
    "### Modules and packages\n",
    "\n",
    "#### Modules\n",
    "\n",
    "`__thisisforinternaluse__`\n",
    "\n",
    "`import my_function as mf` - creating an alias for `my_function`\n",
    "\n",
    "`set PYTHONPATH=` - setting the path to files for a selcted session in terminal\n",
    "\n",
    "[Absolute and relative imports](https://realpython.com/absolute-vs-relative-python-imports/)\n",
    "\n",
    "[Google Python Style Guide](https://github.com/google/styleguide/blob/gh-pages/pyguide.md)\n",
    "\n",
    "functions -> modules -> packages\n",
    "\n",
    "#### Packages\n",
    "\n",
    "`__name__` - script entry point. Will equal main if we're running it from the .py file directly.\n",
    "\n",
    "`__file__` - displays location of the file.\n",
    "\n",
    "`__all__` - defines how we interpret `import *`.\n",
    "\n",
    "Package is a container for modules and has `___init__.py` inside.\n",
    "\n",
    "##### pip\n",
    "\n",
    "https://pypi.org/ == cheese shop == pip index\n",
    "\n",
    "`pip freeze` - shows the current env of **all** packages\n",
    "\n",
    "`pip list -o` - list outdated packages\n",
    "\n",
    "`pip install -r requirements.txt` - installs all project requirements\n",
    "\n",
    "\n",
    "### Virtual Environment\n",
    "\n",
    "`virtualenv test_env`\n",
    "\n",
    "`source activate.fish` / `deactivate`\n",
    "\n",
    "`pip list` - displays all packages inside the virtual environment\n",
    "\n",
    "`pip freeze` - displays packages that were installed AFTER setting up the virtualenv SO this is what you should use when `> requirements.txt`\n",
    "\n",
    "Global packages should include:\n",
    "- Python\n",
    "- pip\n",
    "- setuptools\n",
    "- virtualenv\n",
    "\n",
    "`virtualenvwrapper` -> `vf` in Fish shell"
   ]
  },
  {
   "cell_type": "code",
   "execution_count": 2,
   "metadata": {},
   "outputs": [
    {
     "data": {
      "text/plain": [
       "['/Users/wojtek/Python101/notebooks',\n",
       " '/usr/local/Cellar/python/3.7.4_1/Frameworks/Python.framework/Versions/3.7/lib/python37.zip',\n",
       " '/usr/local/Cellar/python/3.7.4_1/Frameworks/Python.framework/Versions/3.7/lib/python3.7',\n",
       " '/usr/local/Cellar/python/3.7.4_1/Frameworks/Python.framework/Versions/3.7/lib/python3.7/lib-dynload',\n",
       " '',\n",
       " '/usr/local/lib/python3.7/site-packages',\n",
       " '/usr/local/lib/python3.7/site-packages/IPython/extensions',\n",
       " '/Users/wojtek/.ipython']"
      ]
     },
     "execution_count": 2,
     "metadata": {},
     "output_type": "execute_result"
    }
   ],
   "source": [
    "import sys\n",
    "sys.path"
   ]
  }
 ],
 "metadata": {
  "kernelspec": {
   "display_name": "Python 3",
   "language": "python",
   "name": "python3"
  },
  "language_info": {
   "codemirror_mode": {
    "name": "ipython",
    "version": 3
   },
   "file_extension": ".py",
   "mimetype": "text/x-python",
   "name": "python",
   "nbconvert_exporter": "python",
   "pygments_lexer": "ipython3",
   "version": "3.7.4"
  }
 },
 "nbformat": 4,
 "nbformat_minor": 2
}
