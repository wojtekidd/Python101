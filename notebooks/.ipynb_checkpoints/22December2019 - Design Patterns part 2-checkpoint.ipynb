{
 "cells": [
  {
   "cell_type": "markdown",
   "metadata": {},
   "source": [
    "# Design patterns part 2\n",
    "\n",
    "Functional programming is about writing functions and variables. Realized function after function (mathematically). \n",
    "\n"
   ]
  },
  {
   "cell_type": "code",
   "execution_count": 5,
   "metadata": {},
   "outputs": [
    {
     "name": "stdout",
     "output_type": "stream",
     "text": [
      "[1, 18]\n",
      "[2, 19]\n",
      "[3, 8]\n"
     ]
    }
   ],
   "source": [
    "pairs = [[1, 18], [2, 19], [3, 8]]\n",
    "print(min(pairs))\n",
    "\n",
    "def func(x):\n",
    "    return x[1]\n",
    "\n",
    "print(func(pairs))\n",
    "print(min(pairs, key=func))"
   ]
  },
  {
   "cell_type": "code",
   "execution_count": null,
   "metadata": {},
   "outputs": [],
   "source": []
  }
 ],
 "metadata": {
  "kernelspec": {
   "display_name": "Python 3",
   "language": "python",
   "name": "python3"
  },
  "language_info": {
   "codemirror_mode": {
    "name": "ipython",
    "version": 3
   },
   "file_extension": ".py",
   "mimetype": "text/x-python",
   "name": "python",
   "nbconvert_exporter": "python",
   "pygments_lexer": "ipython3",
   "version": "3.7.4"
  }
 },
 "nbformat": 4,
 "nbformat_minor": 2
}
