{
 "cells": [
  {
   "cell_type": "markdown",
   "metadata": {},
   "source": [
    "# October 20th 2019\n",
    "\n",
    "## Data structures\n",
    "\n",
    "### heapsort\n",
    "\n",
    "Getting to the largest and smallest number is most optimal in heap data structure."
   ]
  },
  {
   "cell_type": "code",
   "execution_count": 7,
   "metadata": {},
   "outputs": [
    {
     "name": "stdout",
     "output_type": "stream",
     "text": [
      "[1]\n",
      "[1, 8]\n",
      "[1, 8, 3]\n",
      "[1, 7, 3, 8]\n",
      "[1, 5, 3, 8, 7]\n"
     ]
    },
    {
     "data": {
      "text/plain": [
       "[1, 3, 5, 7, 8]"
      ]
     },
     "execution_count": 7,
     "metadata": {},
     "output_type": "execute_result"
    }
   ],
   "source": [
    "from heapq import heappush\n",
    "from heapq import heappop\n",
    "\n",
    "def heapsort(iterable):\n",
    "    h = []\n",
    "    for value in iterable:\n",
    "        heappush(h, value)\n",
    "        print(h)\n",
    "    return [heappop(h) for i in range(len(h))]\n",
    "\n",
    "heapsort([1,8,3,7,5])\n"
   ]
  },
  {
   "cell_type": "markdown",
   "metadata": {},
   "source": [
    "### isinstance, issubclass"
   ]
  },
  {
   "cell_type": "code",
   "execution_count": 7,
   "metadata": {},
   "outputs": [
    {
     "name": "stdout",
     "output_type": "stream",
     "text": [
      "True\n",
      "False\n",
      "True\n",
      "False\n",
      "True\n"
     ]
    }
   ],
   "source": [
    "class A:\n",
    "    pass\n",
    "class B:\n",
    "    pass\n",
    "class C(B,A):\n",
    "    pass\n",
    "a = A()\n",
    "print(isinstance(a, A))\n",
    "print(isinstance(a, B))\n",
    "print(issubclass(C, A))\n",
    "print(issubclass(B, A))\n",
    "print(issubclass(C, B))"
   ]
  },
  {
   "cell_type": "markdown",
   "metadata": {},
   "source": [
    "### hasattr, getattr\n",
    "Checking the attribute of a function."
   ]
  },
  {
   "cell_type": "code",
   "execution_count": 18,
   "metadata": {},
   "outputs": [
    {
     "name": "stdout",
     "output_type": "stream",
     "text": [
      "User(name='Wojtek')\n",
      "True\n",
      "False\n",
      "Wojtek\n",
      "Wojtek\n"
     ]
    },
    {
     "data": {
      "text/plain": [
       "'Nowak'"
      ]
     },
     "execution_count": 18,
     "metadata": {},
     "output_type": "execute_result"
    }
   ],
   "source": [
    "from collections import namedtuple\n",
    "\n",
    "User = namedtuple(\"User\", \"name\")\n",
    "user = User(\"Wojtek\")\n",
    "print(user)\n",
    "print(hasattr(user, \"name\"))\n",
    "print(hasattr(user, \"email\"))\n",
    "print(user.name)\n",
    "print(getattr(user, \"name\"))\n",
    "getattr(user, \"surname\", \"Nowak\")"
   ]
  },
  {
   "cell_type": "markdown",
   "metadata": {},
   "source": [
    "### Abstract classes and methods - ABC (AbstractBaseClass)\n",
    "Polimorphism..."
   ]
  },
  {
   "cell_type": "code",
   "execution_count": 31,
   "metadata": {},
   "outputs": [
    {
     "name": "stdout",
     "output_type": "stream",
     "text": [
      "Brzdęk\n",
      "True\n",
      "Brzdęk\n"
     ]
    }
   ],
   "source": [
    "import abc\n",
    "\n",
    "class MusicalInstrument(abc.ABC):\n",
    "    @abc.abstractmethod\n",
    "    def play(self):\n",
    "        pass\n",
    "#Abstract method doesn't do anything, it's for your logic - a new class has to do this.\n",
    "\n",
    "class Guitar(MusicalInstrument):\n",
    "    def play(self):\n",
    "        print(\"Brzdęk\")\n",
    "\n",
    "        \n",
    "Guitar()\n",
    "Guitar().play()\n",
    "\n",
    "guitar = Guitar()\n",
    "print(isinstance(guitar, MusicalInstrument))\n",
    "guitar.play()"
   ]
  },
  {
   "cell_type": "markdown",
   "metadata": {},
   "source": [
    "## Regular expressions"
   ]
  },
  {
   "cell_type": "code",
   "execution_count": 33,
   "metadata": {
    "scrolled": true
   },
   "outputs": [
    {
     "data": {
      "text/plain": [
       "('Ala ma psa', 1)"
      ]
     },
     "execution_count": 33,
     "metadata": {},
     "output_type": "execute_result"
    }
   ],
   "source": [
    "import re\n",
    "\n",
    "re.subn(r\"\\w{4}\", \"psa\", \"Ala ma kota\")"
   ]
  },
  {
   "cell_type": "code",
   "execution_count": 41,
   "metadata": {},
   "outputs": [
    {
     "name": "stdout",
     "output_type": "stream",
     "text": [
      "<re.Match object; span=(6, 9), match='ala'>\n",
      "<re.Match object; span=(9, 12), match=' la'>\n"
     ]
    }
   ],
   "source": [
    "it = re.finditer(r\".la\", \"Bum trala la\")\n",
    "for match in it:\n",
    "    print(match)"
   ]
  },
  {
   "cell_type": "code",
   "execution_count": 42,
   "metadata": {},
   "outputs": [
    {
     "data": {
      "text/plain": [
       "<re.Match object; span=(6, 9), match='ala'>"
      ]
     },
     "execution_count": 42,
     "metadata": {},
     "output_type": "execute_result"
    }
   ],
   "source": [
    "re.search(r\"ala\", \"Bum trala la\")"
   ]
  },
  {
   "cell_type": "code",
   "execution_count": 46,
   "metadata": {},
   "outputs": [
    {
     "data": {
      "text/plain": [
       "['ala', ' la']"
      ]
     },
     "execution_count": 46,
     "metadata": {},
     "output_type": "execute_result"
    }
   ],
   "source": [
    "re.findall(r\".la\", \"Bum trala la umc umc umc\")"
   ]
  },
  {
   "cell_type": "code",
   "execution_count": 56,
   "metadata": {},
   "outputs": [
    {
     "data": {
      "text/plain": [
       "<re.Match object; span=(0, 4), match='Test'>"
      ]
     },
     "execution_count": 56,
     "metadata": {},
     "output_type": "execute_result"
    }
   ],
   "source": [
    "re.match(r\"\\w+\", \"Test tego regexa\")"
   ]
  },
  {
   "cell_type": "code",
   "execution_count": 59,
   "metadata": {},
   "outputs": [
    {
     "data": {
      "text/plain": [
       "<re.Match object; span=(0, 1), match='w'>"
      ]
     },
     "execution_count": 59,
     "metadata": {},
     "output_type": "execute_result"
    }
   ],
   "source": [
    "re.match(r\"\\w+\", \"wąż\", re.A)"
   ]
  },
  {
   "cell_type": "code",
   "execution_count": 61,
   "metadata": {},
   "outputs": [
    {
     "data": {
      "text/plain": [
       "['', 'la', 'a', 'ota']"
      ]
     },
     "execution_count": 61,
     "metadata": {},
     "output_type": "execute_result"
    }
   ],
   "source": [
    "re.split(r\"[A-Z]\", \"AlaMaKota\")"
   ]
  }
 ],
 "metadata": {
  "kernelspec": {
   "display_name": "Python 3",
   "language": "python",
   "name": "python3"
  },
  "language_info": {
   "codemirror_mode": {
    "name": "ipython",
    "version": 3
   },
   "file_extension": ".py",
   "mimetype": "text/x-python",
   "name": "python",
   "nbconvert_exporter": "python",
   "pygments_lexer": "ipython3",
   "version": "3.7.4"
  }
 },
 "nbformat": 4,
 "nbformat_minor": 2
}
